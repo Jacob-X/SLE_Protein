{
 "cells": [
  {
   "cell_type": "code",
   "execution_count": null,
   "id": "initial_id",
   "metadata": {
    "collapsed": true
   },
   "outputs": [],
   "source": [
    "import pandas as pd\n",
    "\n",
    "time_group = pd.read_csv(\"/Volumes/data_files/UKB_data/processed_data/sle_group.csv\")\n",
    "\n",
    "within_five = time_group[time_group[\"Group\"]==\"0-5\"]\n",
    "within_five_eid = within_five[\"eid\"].tolist()\n",
    "\n",
    "five_ten = time_group[time_group[\"Group\"]==\"5-10\"]\n",
    "five_ten_eid = five_ten[\"eid\"].tolist()\n",
    "\n",
    "ten_fifteen = time_group[time_group[\"Group\"]==\"10-15\"]\n",
    "ten_fifteen_eid = ten_fifteen[\"eid\"].tolist()\n"
   ]
  },
  {
   "cell_type": "code",
   "execution_count": null,
   "outputs": [],
   "source": [
    "immune_basic = pd.read_csv(\"/Volumes/data_files/UKB_data/processed_data/immune_basic_fp.csv\")\n",
    "pro = pd.read_csv(\"/Volumes/data_files/UKB_data/processed_data/pro_sler\")\n",
    "st_features = pd.read_csv(\"/Volumes/data_files/UKB_data/processed_data/sle_student_t_features.csv\")"
   ],
   "metadata": {
    "collapsed": false
   },
   "id": "8f57ca6b3a1c2f97"
  },
  {
   "cell_type": "code",
   "execution_count": null,
   "outputs": [],
   "source": [
    "immune_pro = pro.merge(immune_basic, on='eid', how='left')\n",
    "immune_pro = immune_pro.merge(st_features[['eid', 'alcohol_amount']], on='eid', how='left')\n",
    "\n",
    "follow_up = ['fp-SLE', 'fp-RA', 'fp-SS', 'fp-Systemic Sclerosis', 'fp-APS', 'fp-Autoimmune thyroiditis']\n",
    "srd = ['srd_SLE', 'srd_RA','srd_SS','srd_Systemic Sclerosis', 'srd_APS', 'srd_Autoimmune thyroiditis']\n",
    "disease = ['SLE','RA','SS', 'Systemic Sclerosis', 'APS', 'Autoimmune thyroiditis']"
   ],
   "metadata": {
    "collapsed": false
   },
   "id": "517f0a1319f6ce26"
  },
  {
   "cell_type": "code",
   "execution_count": null,
   "outputs": [],
   "source": [
    "print(immune_pro.columns.tolist())"
   ],
   "metadata": {
    "collapsed": false
   },
   "id": "fb2bcaabe69f543d"
  },
  {
   "cell_type": "code",
   "execution_count": null,
   "outputs": [],
   "source": [
    "unuse_col = ['RA', 'SS', 'Systemic Sclerosis', 'APS', 'Autoimmune thyroiditis', 'icd10_SLE_dates', 'icd10_RA_dates', 'icd10_SS_dates', 'icd10_Systemic Sclerosis_dates', 'icd10_APS_dates', 'icd10_Autoimmune thyroiditis_dates', 'srd_RA', 'srd_SS', 'srd_Systemic Sclerosis', 'srd_APS', 'srd_Autoimmune thyroiditis', 'bmi', 'date_attend', 'birth_year', 'birth_month', 'fp-len', 'fp-RA', 'fp-SS', 'fp-Systemic Sclerosis', 'fp-APS', 'fp-Autoimmune thyroiditis', 'age']\n",
    "immune_pro.drop(columns=unuse_col, inplace=True)\n",
    "print(immune_pro.columns.tolist())"
   ],
   "metadata": {
    "collapsed": false
   },
   "id": "78a1d32e6571cd83"
  },
  {
   "cell_type": "code",
   "execution_count": null,
   "outputs": [],
   "source": [
    "# sle_pro = immune_pro[immune_pro[\"srd_SLE\"].isna()]\n",
    "sle_pro = immune_pro[immune_pro[\"fp-SLE\"] > 0]\n",
    "sle_pro.drop([\"srd_SLE\"], axis=1, inplace=True)\n",
    "sle_pro = sle_pro.fillna(sle_pro.median(numeric_only=True))\n",
    "\n",
    "sle_pro_5 = sle_pro[sle_pro[\"eid\"].isin(within_five_eid)]\n",
    "sle_pro_10 = sle_pro[sle_pro[\"eid\"].isin(five_ten_eid)]\n",
    "sle_pro_15 = sle_pro[sle_pro[\"eid\"].isin(ten_fifteen_eid)]\n",
    "sle_control = sle_pro[sle_pro[\"SLE\"]==0]\n",
    "print(sle_pro_5.shape,sle_pro_10.shape,sle_pro_15.shape,sle_control.shape)\n",
    "\n",
    "sle_pro_5_cox = pd.concat([sle_pro_5, sle_control], ignore_index=True)\n",
    "sle_pro_10_cox = pd.concat([sle_pro_10, sle_control], ignore_index=True)\n",
    "sle_pro_15_cox = pd.concat([sle_pro_15, sle_control], ignore_index=True)\n",
    "\n",
    "print(sle_pro_5_cox.shape,sle_pro_10_cox.shape,sle_pro_15_cox.shape)"
   ],
   "metadata": {
    "collapsed": false
   },
   "id": "12cc21961aa7bdeb"
  },
  {
   "cell_type": "code",
   "execution_count": null,
   "outputs": [],
   "source": [
    "sle_pro_15_cox"
   ],
   "metadata": {
    "collapsed": false
   },
   "id": "d6dfee8c124ec3ae"
  },
  {
   "cell_type": "code",
   "execution_count": null,
   "outputs": [],
   "source": [
    "pro_cols = [col for col in sle_pro.columns if col not in [\"eid\", \"sex\", \"ethnicity\", \"alcohol_amount\", \"SLE\",\"fp-SLE\"]]\n",
    "print(pro_cols)"
   ],
   "metadata": {
    "collapsed": false
   },
   "id": "971291b98bcbf6fa"
  },
  {
   "cell_type": "code",
   "execution_count": null,
   "outputs": [],
   "source": [
    "# covar_cols = ['sex', 'ethnicity', 'alcohol_amount']\n",
    "covar_cols = ['sex', 'ethnicity']"
   ],
   "metadata": {
    "collapsed": false
   },
   "id": "3e00aa7a49f16ecd"
  },
  {
   "cell_type": "code",
   "execution_count": null,
   "outputs": [],
   "source": [
    "import pandas as pd\n",
    "from lifelines import CoxPHFitter\n",
    "from tqdm import tqdm\n",
    "from statsmodels.stats.multitest import multipletests\n",
    "from statsmodels.stats.multitest import fdrcorrection\n",
    "from mne.stats import bonferroni_correction\n",
    "\n",
    "from scipy.stats import norm\n",
    "import numpy as np\n",
    "\n",
    "def cox_cal(cox_data, out_file):\n",
    "    \n",
    "    # 初始化输出结果数据框\n",
    "    results_all = []    \n",
    "    n_tests = len(pro_cols)\n",
    "    \n",
    "    # 遍历每个特征列\n",
    "    for t, t_pro in enumerate(tqdm(pro_cols, desc=\"Processing features\")):\n",
    "        try:\n",
    "            # 构建用于分析的列\n",
    "            t_col = [\"SLE\",\"fp-SLE\",t_pro] + covar_cols\n",
    "            t_ra_pro = cox_data[t_col].copy()  # 复制数据，避免警告\n",
    "            # print(t_col)\n",
    "    \n",
    "            # 检查并删除缺失值\n",
    "            # t_ra_pro = t_ra_pro.dropna(subset=[t_pro])\n",
    "            t_ra_pro.rename(columns={t_pro: \"target_pro\"}, inplace=True)\n",
    "    \n",
    "            # 初始化Cox模型并拟合数据\n",
    "            cph = CoxPHFitter()\n",
    "            cph.fit(t_ra_pro, duration_col=\"fp-SLE\", event_col=\"SLE\", formula=\" + \".join(['target_pro'] + covar_cols))\n",
    "    \n",
    "            # 提取模型结果\n",
    "            hr = cph.hazard_ratios_.get('target_pro', None)\n",
    "            # print(hr)\n",
    "    \n",
    "            # 提取置信区间，带检查\n",
    "            # print(cph.confidence_intervals_)\n",
    "            if '95% lower-bound' in cph.confidence_intervals_.columns:\n",
    "                conf_int = cph.confidence_intervals_.loc['target_pro']\n",
    "                lbd, ubd = conf_int['95% lower-bound'], conf_int['95% upper-bound']\n",
    "            else:\n",
    "                lbd, ubd = None, None\n",
    "    \n",
    "            # 提取 p 值\n",
    "            # print(cph.summary)\n",
    "            pval = cph.summary.loc['target_pro', 'p']\n",
    "    \n",
    "            # 保存结果\n",
    "            results_all.append({'Feature': t_pro, 'HR': hr, 'Lower CI': lbd, 'Upper CI': ubd, 'p-value': pval})\n",
    "            # print(f\"Processed feature '{t_pro}' with HR = {hr:.3f}, p = {pval:.3f}\")\n",
    "        except Exception as e:\n",
    "            print(f\"Error processing feature '{t_pro}': {e}\")\n",
    "\n",
    "\n",
    "    results_all_df = pd.DataFrame(results_all)\n",
    "\n",
    "\n",
    "    # results_df = pd.DataFrame(results)\n",
    "    # results_df[\"Bonferroni\"] = results_df[\"p-value\"].apply(lambda p: min(p * n_tests, 1))\n",
    "    # # 使用 Benjamini-Hochberg 方法进行 FDR 校正\n",
    "    # results_df[\"FDR\"] = multipletests(results_df[\"p-value\"], method=\"fdr_bh\")[1]\n",
    "\n",
    "    # FDR correction\n",
    "    _, p_f_fdr = fdrcorrection(results_all_df['p-value'].fillna(1))\n",
    "    \n",
    "    # Bonferroni correction\n",
    "    alpha = 0.05\n",
    "    p_f_bfi = results_all_df['p-value'].fillna(1) * len(results_all_df)  # Bonferroni correction\n",
    "    p_f_bfi = p_f_bfi.clip(upper=alpha)  # Ensure p-values do not exceed alpha level\n",
    "\n",
    "    \n",
    "    results_all_df[\"Bonferroni\"] = p_f_bfi\n",
    "    # 使用 Benjamini-Hochberg 方法进行 FDR 校正\n",
    "    results_all_df[\"FDR\"] = p_f_fdr\n",
    "    results_all_df.to_csv(out_file, index=False)\n"
   ],
   "metadata": {
    "collapsed": false
   },
   "id": "5b8581bbc9c4f197"
  },
  {
   "cell_type": "code",
   "execution_count": null,
   "outputs": [],
   "source": [
    "cox_cal(sle_pro, \"/Volumes/data_files/UKB_data/immune_result/cox3/sle_pro_cox_2.csv\")\n",
    "# cox_cal(sle_pro_5_cox, \"/Volumes/data_files/UKB_data/immune_result/cox3/sle_pro_5_cox.csv\")\n",
    "# cox_cal(sle_pro_10_cox, \"/Volumes/data_files/UKB_data/immune_result/cox3/sle_pro_10_cox.csv\")\n",
    "# cox_cal(sle_pro_15_cox, \"/Volumes/data_files/UKB_data/immune_result/cox3/sle_pro_15_cox.csv\")"
   ],
   "metadata": {
    "collapsed": false
   },
   "id": "30bc9de10732892d"
  },
  {
   "cell_type": "code",
   "execution_count": 21,
   "outputs": [],
   "source": [
    "import pandas as pd\n",
    "from lifelines import CoxPHFitter\n",
    "from tqdm import tqdm\n",
    "from statsmodels.stats.multitest import fdrcorrection\n",
    "import numpy as np\n",
    "\n",
    "def cox_cal(cox_data, out_file, covar_cols, pro_cols):\n",
    "    # 初始化输出结果数据框\n",
    "    results_all = []\n",
    "    n_tests = len(pro_cols)\n",
    "\n",
    "    # 遍历每个特征列\n",
    "    for t, t_pro in enumerate(tqdm(pro_cols, desc=\"Processing features\")):\n",
    "        try:\n",
    "            # 构建用于分析的列\n",
    "            t_col = [\"SLE\", \"fp-SLE\", t_pro] + covar_cols\n",
    "            t_ra_pro = cox_data[t_col].copy()  # 复制数据，避免警告\n",
    "            t_ra_pro.rename(columns={t_pro: \"target_pro\"}, inplace=True)\n",
    "\n",
    "            # 计算事件发生和未发生的比例，用来设置样本权重\n",
    "            event_count = t_ra_pro['SLE'].sum()  # 事件发生的数量\n",
    "            non_event_count = len(t_ra_pro) - event_count  # 事件未发生的数量\n",
    "            event_weight = non_event_count / event_count  # 事件发生组的权重\n",
    "            non_event_weight = 1  # 事件未发生组的权重\n",
    "\n",
    "            # 给每一行样本分配权重\n",
    "            t_ra_pro['weights'] = np.where(t_ra_pro['SLE'] == 1, event_weight, non_event_weight)\n",
    "\n",
    "            # 初始化Cox模型并拟合数据，使用加权列\n",
    "            cph = CoxPHFitter()\n",
    "            cph.fit(t_ra_pro, duration_col=\"fp-SLE\", event_col=\"SLE\", formula=\" + \".join(['target_pro'] + covar_cols), weights_col='weights')\n",
    "\n",
    "            # 提取模型结果\n",
    "            hr = cph.hazard_ratios_.get('target_pro', None)\n",
    "\n",
    "            # 提取置信区间\n",
    "            if '95% lower-bound' in cph.confidence_intervals_.columns:\n",
    "                conf_int = cph.confidence_intervals_.loc['target_pro']\n",
    "                lbd, ubd = conf_int['95% lower-bound'], conf_int['95% upper-bound']\n",
    "            else:\n",
    "                lbd, ubd = None, None\n",
    "\n",
    "            # 提取 p 值\n",
    "            pval = cph.summary.loc['target_pro', 'p']\n",
    "\n",
    "            # 保存结果\n",
    "            results_all.append({'Feature': t_pro, 'HR': hr, 'Lower CI': lbd, 'Upper CI': ubd, 'p-value': pval})\n",
    "        except Exception as e:\n",
    "            print(f\"Error processing feature '{t_pro}': {e}\")\n",
    "\n",
    "    # 将所有结果保存为DataFrame\n",
    "    results_all_df = pd.DataFrame(results_all)\n",
    "\n",
    "    # FDR correction\n",
    "    _, p_f_fdr = fdrcorrection(results_all_df['p-value'].fillna(1))\n",
    "\n",
    "    # Bonferroni correction\n",
    "    alpha = 0.05\n",
    "    p_f_bfi = results_all_df['p-value'].fillna(1) * len(results_all_df)  # Bonferroni correction\n",
    "    p_f_bfi = p_f_bfi.clip(upper=alpha)  # Ensure p-values do not exceed alpha level\n",
    "\n",
    "    # 将修正后的p值添加到结果中\n",
    "    results_all_df[\"Bonferroni\"] = p_f_bfi\n",
    "    results_all_df[\"FDR\"] = p_f_fdr\n",
    "\n",
    "    # 将结果保存到CSV文件\n",
    "    results_all_df.to_csv(out_file, index=False)\n",
    "\n",
    "# 示例调用\n",
    "# 假设你已经定义了 `cox_data`, `covar_cols`, 和 `pro_cols` 等必要变量\n",
    "# cox_cal(cox_data, \"output_results.csv\", covar_cols, pro_cols)\n"
   ],
   "metadata": {
    "collapsed": false,
    "ExecuteTime": {
     "end_time": "2024-12-20T07:09:04.977436Z",
     "start_time": "2024-12-20T07:09:04.931845Z"
    }
   },
   "id": "108220ea064c970b"
  },
  {
   "cell_type": "code",
   "execution_count": null,
   "outputs": [],
   "source": [
    "cox_cal(sle_pro, \"/Volumes/data_files/UKB_data/immune_result/cox3/sle_pro_cox_weighted.csv\",covar_cols, pro_cols)"
   ],
   "metadata": {
    "collapsed": false
   },
   "id": "2c96024df13ce638"
  },
  {
   "cell_type": "code",
   "execution_count": 24,
   "outputs": [
    {
     "data": {
      "text/plain": "      Feature        HR  Lower CI  Upper CI        p-value     Bonferroni  \\\n0        a1bg  1.472747  0.338240  0.436020   2.551376e-54   7.457673e-51   \n1       aamdc  1.069172  0.049818  0.083952   1.577652e-14   4.611478e-11   \n2      aarsd1  1.093932  0.076243  0.103314   1.217038e-38   3.557403e-35   \n3       abca2  1.169349  0.130764  0.182131   7.418133e-33   2.168320e-29   \n4     abhd14b  1.105198  0.086521  0.113528   9.344369e-48   2.731359e-44   \n...       ...       ...       ...       ...            ...            ...   \n2916   znf75d  1.044212  0.028812  0.057712   4.415446e-09   1.290635e-05   \n2917   znf830  0.853174 -0.171602 -0.145982  2.147626e-130  6.277511e-127   \n2919    znrf4  1.056684  0.038912  0.071360   2.725355e-11   7.966212e-08   \n2920      zp3  0.985963 -0.017504 -0.010770   1.870478e-16   5.467407e-13   \n2922     zpr1  1.067777  0.057450  0.073707   2.554161e-56   7.465812e-53   \n\n                FDR  \n0      5.237130e-54  \n1      2.137913e-14  \n2      2.198642e-38  \n3      1.256269e-32  \n4      1.824555e-47  \n...             ...  \n2916   5.539205e-09  \n2917  6.808580e-130  \n2919   3.542113e-11  \n2920   2.606009e-16  \n2922   5.313745e-56  \n\n[2489 rows x 7 columns]",
      "text/html": "<div>\n<style scoped>\n    .dataframe tbody tr th:only-of-type {\n        vertical-align: middle;\n    }\n\n    .dataframe tbody tr th {\n        vertical-align: top;\n    }\n\n    .dataframe thead th {\n        text-align: right;\n    }\n</style>\n<table border=\"1\" class=\"dataframe\">\n  <thead>\n    <tr style=\"text-align: right;\">\n      <th></th>\n      <th>Feature</th>\n      <th>HR</th>\n      <th>Lower CI</th>\n      <th>Upper CI</th>\n      <th>p-value</th>\n      <th>Bonferroni</th>\n      <th>FDR</th>\n    </tr>\n  </thead>\n  <tbody>\n    <tr>\n      <th>0</th>\n      <td>a1bg</td>\n      <td>1.472747</td>\n      <td>0.338240</td>\n      <td>0.436020</td>\n      <td>2.551376e-54</td>\n      <td>7.457673e-51</td>\n      <td>5.237130e-54</td>\n    </tr>\n    <tr>\n      <th>1</th>\n      <td>aamdc</td>\n      <td>1.069172</td>\n      <td>0.049818</td>\n      <td>0.083952</td>\n      <td>1.577652e-14</td>\n      <td>4.611478e-11</td>\n      <td>2.137913e-14</td>\n    </tr>\n    <tr>\n      <th>2</th>\n      <td>aarsd1</td>\n      <td>1.093932</td>\n      <td>0.076243</td>\n      <td>0.103314</td>\n      <td>1.217038e-38</td>\n      <td>3.557403e-35</td>\n      <td>2.198642e-38</td>\n    </tr>\n    <tr>\n      <th>3</th>\n      <td>abca2</td>\n      <td>1.169349</td>\n      <td>0.130764</td>\n      <td>0.182131</td>\n      <td>7.418133e-33</td>\n      <td>2.168320e-29</td>\n      <td>1.256269e-32</td>\n    </tr>\n    <tr>\n      <th>4</th>\n      <td>abhd14b</td>\n      <td>1.105198</td>\n      <td>0.086521</td>\n      <td>0.113528</td>\n      <td>9.344369e-48</td>\n      <td>2.731359e-44</td>\n      <td>1.824555e-47</td>\n    </tr>\n    <tr>\n      <th>...</th>\n      <td>...</td>\n      <td>...</td>\n      <td>...</td>\n      <td>...</td>\n      <td>...</td>\n      <td>...</td>\n      <td>...</td>\n    </tr>\n    <tr>\n      <th>2916</th>\n      <td>znf75d</td>\n      <td>1.044212</td>\n      <td>0.028812</td>\n      <td>0.057712</td>\n      <td>4.415446e-09</td>\n      <td>1.290635e-05</td>\n      <td>5.539205e-09</td>\n    </tr>\n    <tr>\n      <th>2917</th>\n      <td>znf830</td>\n      <td>0.853174</td>\n      <td>-0.171602</td>\n      <td>-0.145982</td>\n      <td>2.147626e-130</td>\n      <td>6.277511e-127</td>\n      <td>6.808580e-130</td>\n    </tr>\n    <tr>\n      <th>2919</th>\n      <td>znrf4</td>\n      <td>1.056684</td>\n      <td>0.038912</td>\n      <td>0.071360</td>\n      <td>2.725355e-11</td>\n      <td>7.966212e-08</td>\n      <td>3.542113e-11</td>\n    </tr>\n    <tr>\n      <th>2920</th>\n      <td>zp3</td>\n      <td>0.985963</td>\n      <td>-0.017504</td>\n      <td>-0.010770</td>\n      <td>1.870478e-16</td>\n      <td>5.467407e-13</td>\n      <td>2.606009e-16</td>\n    </tr>\n    <tr>\n      <th>2922</th>\n      <td>zpr1</td>\n      <td>1.067777</td>\n      <td>0.057450</td>\n      <td>0.073707</td>\n      <td>2.554161e-56</td>\n      <td>7.465812e-53</td>\n      <td>5.313745e-56</td>\n    </tr>\n  </tbody>\n</table>\n<p>2489 rows × 7 columns</p>\n</div>"
     },
     "execution_count": 24,
     "metadata": {},
     "output_type": "execute_result"
    }
   ],
   "source": [
    "check = pd.read_csv(\"/Volumes/data_files/UKB_data/immune_result/cox3/sle_pro_cox_weighted.csv\")\n",
    "check = check[check[\"Bonferroni\"]<0.05]\n",
    "check"
   ],
   "metadata": {
    "collapsed": false,
    "ExecuteTime": {
     "end_time": "2024-12-20T07:21:18.787722Z",
     "start_time": "2024-12-20T07:21:18.683963Z"
    }
   },
   "id": "e6b3dbb5e5b09dcb"
  },
  {
   "cell_type": "code",
   "execution_count": 25,
   "outputs": [],
   "source": [
    "import pandas as pd\n",
    "from lifelines import CoxPHFitter\n",
    "from tqdm import tqdm\n",
    "from statsmodels.stats.multitest import fdrcorrection\n",
    "import numpy as np\n",
    "\n",
    "def cox_cal(cox_data, out_file, covar_cols, pro_cols):\n",
    "    # 初始化输出结果数据框\n",
    "    results_all = []\n",
    "    n_tests = len(pro_cols)\n",
    "\n",
    "    # 遍历每个特征列\n",
    "    for t, t_pro in enumerate(tqdm(pro_cols, desc=\"Processing features\")):\n",
    "        try:\n",
    "            # 构建用于分析的列\n",
    "            t_col = [\"SLE\", \"fp-SLE\", t_pro] + covar_cols\n",
    "            t_ra_pro = cox_data[t_col].copy()  # 复制数据，避免警告\n",
    "            t_ra_pro.rename(columns={t_pro: \"target_pro\"}, inplace=True)\n",
    "\n",
    "            # 手动设置权重：事件发生组的权重为 10，未发生事件组的权重为 1\n",
    "            t_ra_pro['weights'] = np.where(t_ra_pro['SLE'] == 1, 10, 1)\n",
    "\n",
    "            # 初始化Cox模型并拟合数据，使用加权列\n",
    "            cph = CoxPHFitter()\n",
    "            cph.fit(t_ra_pro, duration_col=\"fp-SLE\", event_col=\"SLE\", formula=\" + \".join(['target_pro'] + covar_cols), weights_col='weights')\n",
    "\n",
    "            # 提取模型结果\n",
    "            hr = cph.hazard_ratios_.get('target_pro', None)\n",
    "\n",
    "            # 提取置信区间\n",
    "            if '95% lower-bound' in cph.confidence_intervals_.columns:\n",
    "                conf_int = cph.confidence_intervals_.loc['target_pro']\n",
    "                lbd, ubd = conf_int['95% lower-bound'], conf_int['95% upper-bound']\n",
    "            else:\n",
    "                lbd, ubd = None, None\n",
    "\n",
    "            # 提取 p 值\n",
    "            pval = cph.summary.loc['target_pro', 'p']\n",
    "\n",
    "            # 保存结果\n",
    "            results_all.append({'Feature': t_pro, 'HR': hr, 'Lower CI': lbd, 'Upper CI': ubd, 'p-value': pval})\n",
    "        except Exception as e:\n",
    "            print(f\"Error processing feature '{t_pro}': {e}\")\n",
    "\n",
    "    # 将所有结果保存为DataFrame\n",
    "    results_all_df = pd.DataFrame(results_all)\n",
    "\n",
    "    # FDR correction\n",
    "    _, p_f_fdr = fdrcorrection(results_all_df['p-value'].fillna(1))\n",
    "\n",
    "    # Bonferroni correction\n",
    "    alpha = 0.05\n",
    "    p_f_bfi = results_all_df['p-value'].fillna(1) * len(results_all_df)  # Bonferroni correction\n",
    "    p_f_bfi = p_f_bfi.clip(upper=alpha)  # Ensure p-values do not exceed alpha level\n",
    "\n",
    "    # 将修正后的p值添加到结果中\n",
    "    results_all_df[\"Bonferroni\"] = p_f_bfi\n",
    "    results_all_df[\"FDR\"] = p_f_fdr\n",
    "\n",
    "    # 将结果保存到CSV文件\n",
    "    # results_all_df.to_csv(out_file, index=False)\n",
    "    return results_all_df\n",
    "# 示例调用\n",
    "# 假设你已经定义了 `cox_data`, `covar_cols`, 和 `pro_cols` 等必要变量\n",
    "# cox_cal(cox_data, \"output_results.csv\", covar_cols, pro_cols)"
   ],
   "metadata": {
    "collapsed": false,
    "ExecuteTime": {
     "end_time": "2024-12-20T08:52:07.394120Z",
     "start_time": "2024-12-20T08:52:07.339592Z"
    }
   },
   "id": "265ae2407d0cab5e"
  },
  {
   "cell_type": "code",
   "execution_count": null,
   "outputs": [],
   "source": [
    "check = cox_cal(sle_pro, \"/Volumes/data_files/UKB_data/immune_result/cox3/sle_pro_cox_weighted.csv\",covar_cols, pro_cols)"
   ],
   "metadata": {
    "collapsed": false
   },
   "id": "32d07dc81e37a797"
  },
  {
   "cell_type": "code",
   "execution_count": 27,
   "outputs": [
    {
     "data": {
      "text/plain": "     Feature        HR  Lower CI  Upper CI        p-value     Bonferroni  \\\n5       abl1  1.143917  0.087458  0.181458   2.057780e-08   6.014890e-05   \n8      acaa1  1.133344  0.085746  0.164599   4.889682e-10   1.429254e-06   \n13      ace2  1.280796  0.189195  0.305768   8.660876e-17   2.531574e-13   \n14      ache  0.659033 -0.540270 -0.293693   3.381739e-11   9.884824e-08   \n16     acox1  1.168501  0.091378  0.220066   2.101873e-06   6.143774e-03   \n...      ...       ...       ...       ...            ...            ...   \n2909    zbp1  1.772683  0.515658  0.629330   9.358366e-87   2.735450e-83   \n2911  zbtb17  1.747797  0.507757  0.608955  9.796176e-104  2.863422e-100   \n2912  zcchc8  1.154123  0.086808  0.199873   6.710434e-07   1.961460e-03   \n2917  znf830  0.810950 -0.266918 -0.152181   8.116194e-13   2.372364e-09   \n2922    zpr1  1.110070  0.068530  0.140316   1.183296e-08   3.458774e-05   \n\n                FDR  \n5      4.800391e-08  \n8      1.242830e-09  \n13     2.916560e-16  \n14     9.043755e-11  \n16     4.269475e-06  \n...             ...  \n2909   1.144540e-85  \n2911  1.424588e-102  \n2912   1.412138e-06  \n2917   2.353535e-12  \n2922   2.798361e-08  \n\n[1533 rows x 7 columns]",
      "text/html": "<div>\n<style scoped>\n    .dataframe tbody tr th:only-of-type {\n        vertical-align: middle;\n    }\n\n    .dataframe tbody tr th {\n        vertical-align: top;\n    }\n\n    .dataframe thead th {\n        text-align: right;\n    }\n</style>\n<table border=\"1\" class=\"dataframe\">\n  <thead>\n    <tr style=\"text-align: right;\">\n      <th></th>\n      <th>Feature</th>\n      <th>HR</th>\n      <th>Lower CI</th>\n      <th>Upper CI</th>\n      <th>p-value</th>\n      <th>Bonferroni</th>\n      <th>FDR</th>\n    </tr>\n  </thead>\n  <tbody>\n    <tr>\n      <th>5</th>\n      <td>abl1</td>\n      <td>1.143917</td>\n      <td>0.087458</td>\n      <td>0.181458</td>\n      <td>2.057780e-08</td>\n      <td>6.014890e-05</td>\n      <td>4.800391e-08</td>\n    </tr>\n    <tr>\n      <th>8</th>\n      <td>acaa1</td>\n      <td>1.133344</td>\n      <td>0.085746</td>\n      <td>0.164599</td>\n      <td>4.889682e-10</td>\n      <td>1.429254e-06</td>\n      <td>1.242830e-09</td>\n    </tr>\n    <tr>\n      <th>13</th>\n      <td>ace2</td>\n      <td>1.280796</td>\n      <td>0.189195</td>\n      <td>0.305768</td>\n      <td>8.660876e-17</td>\n      <td>2.531574e-13</td>\n      <td>2.916560e-16</td>\n    </tr>\n    <tr>\n      <th>14</th>\n      <td>ache</td>\n      <td>0.659033</td>\n      <td>-0.540270</td>\n      <td>-0.293693</td>\n      <td>3.381739e-11</td>\n      <td>9.884824e-08</td>\n      <td>9.043755e-11</td>\n    </tr>\n    <tr>\n      <th>16</th>\n      <td>acox1</td>\n      <td>1.168501</td>\n      <td>0.091378</td>\n      <td>0.220066</td>\n      <td>2.101873e-06</td>\n      <td>6.143774e-03</td>\n      <td>4.269475e-06</td>\n    </tr>\n    <tr>\n      <th>...</th>\n      <td>...</td>\n      <td>...</td>\n      <td>...</td>\n      <td>...</td>\n      <td>...</td>\n      <td>...</td>\n      <td>...</td>\n    </tr>\n    <tr>\n      <th>2909</th>\n      <td>zbp1</td>\n      <td>1.772683</td>\n      <td>0.515658</td>\n      <td>0.629330</td>\n      <td>9.358366e-87</td>\n      <td>2.735450e-83</td>\n      <td>1.144540e-85</td>\n    </tr>\n    <tr>\n      <th>2911</th>\n      <td>zbtb17</td>\n      <td>1.747797</td>\n      <td>0.507757</td>\n      <td>0.608955</td>\n      <td>9.796176e-104</td>\n      <td>2.863422e-100</td>\n      <td>1.424588e-102</td>\n    </tr>\n    <tr>\n      <th>2912</th>\n      <td>zcchc8</td>\n      <td>1.154123</td>\n      <td>0.086808</td>\n      <td>0.199873</td>\n      <td>6.710434e-07</td>\n      <td>1.961460e-03</td>\n      <td>1.412138e-06</td>\n    </tr>\n    <tr>\n      <th>2917</th>\n      <td>znf830</td>\n      <td>0.810950</td>\n      <td>-0.266918</td>\n      <td>-0.152181</td>\n      <td>8.116194e-13</td>\n      <td>2.372364e-09</td>\n      <td>2.353535e-12</td>\n    </tr>\n    <tr>\n      <th>2922</th>\n      <td>zpr1</td>\n      <td>1.110070</td>\n      <td>0.068530</td>\n      <td>0.140316</td>\n      <td>1.183296e-08</td>\n      <td>3.458774e-05</td>\n      <td>2.798361e-08</td>\n    </tr>\n  </tbody>\n</table>\n<p>1533 rows × 7 columns</p>\n</div>"
     },
     "execution_count": 27,
     "metadata": {},
     "output_type": "execute_result"
    }
   ],
   "source": [
    "check = check[check[\"Bonferroni\"]<0.05]\n",
    "check"
   ],
   "metadata": {
    "collapsed": false,
    "ExecuteTime": {
     "end_time": "2024-12-20T09:02:24.291960Z",
     "start_time": "2024-12-20T09:02:24.153102Z"
    }
   },
   "id": "79ab560294f8f846"
  },
  {
   "cell_type": "code",
   "execution_count": null,
   "outputs": [],
   "source": [],
   "metadata": {
    "collapsed": false
   },
   "id": "561d714b27a074ca"
  }
 ],
 "metadata": {
  "kernelspec": {
   "display_name": "Python 3",
   "language": "python",
   "name": "python3"
  },
  "language_info": {
   "codemirror_mode": {
    "name": "ipython",
    "version": 2
   },
   "file_extension": ".py",
   "mimetype": "text/x-python",
   "name": "python",
   "nbconvert_exporter": "python",
   "pygments_lexer": "ipython2",
   "version": "2.7.6"
  }
 },
 "nbformat": 4,
 "nbformat_minor": 5
}

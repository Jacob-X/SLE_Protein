{
 "cells": [
  {
   "cell_type": "code",
   "execution_count": null,
   "id": "initial_id",
   "metadata": {
    "collapsed": true
   },
   "outputs": [],
   "source": [
    "import pandas as pd\n",
    "\n",
    "time_group = pd.read_csv(\"/Volumes/data_files/UKB_data/processed_data/sle_group.csv\")\n",
    "\n",
    "within_five = time_group[time_group[\"Group\"]==\"0-5\"]\n",
    "within_five_eid = within_five[\"eid\"].tolist()\n",
    "\n",
    "five_ten = time_group[time_group[\"Group\"]==\"5-10\"]\n",
    "five_ten_eid = five_ten[\"eid\"].tolist()\n",
    "\n",
    "ten_fifteen = time_group[time_group[\"Group\"]==\"10-15\"]\n",
    "ten_fifteen_eid = ten_fifteen[\"eid\"].tolist()\n"
   ]
  },
  {
   "cell_type": "code",
   "execution_count": null,
   "outputs": [],
   "source": [
    "immune_basic = pd.read_csv(\"/Volumes/data_files/UKB_data/processed_data/immune_basic_fp.csv\")\n",
    "pro = pd.read_csv(\"/Volumes/data_files/UKB_data/processed_data/pro_sler\")\n",
    "st_features = pd.read_csv(\"/Volumes/data_files/UKB_data/processed_data/sle_student_t_features.csv\")"
   ],
   "metadata": {
    "collapsed": false
   },
   "id": "8f57ca6b3a1c2f97"
  },
  {
   "cell_type": "code",
   "execution_count": null,
   "outputs": [],
   "source": [
    "immune_pro = pro.merge(immune_basic, on='eid', how='left')\n",
    "immune_pro = immune_pro.merge(st_features[['eid', 'alcohol_amount']], on='eid', how='left')\n",
    "\n",
    "follow_up = ['fp-SLE', 'fp-RA', 'fp-SS', 'fp-Systemic Sclerosis', 'fp-APS', 'fp-Autoimmune thyroiditis']\n",
    "srd = ['srd_SLE', 'srd_RA','srd_SS','srd_Systemic Sclerosis', 'srd_APS', 'srd_Autoimmune thyroiditis']\n",
    "disease = ['SLE','RA','SS', 'Systemic Sclerosis', 'APS', 'Autoimmune thyroiditis']"
   ],
   "metadata": {
    "collapsed": false
   },
   "id": "517f0a1319f6ce26"
  },
  {
   "cell_type": "code",
   "execution_count": null,
   "outputs": [],
   "source": [
    "print(immune_pro.columns.tolist())"
   ],
   "metadata": {
    "collapsed": false
   },
   "id": "fb2bcaabe69f543d"
  },
  {
   "cell_type": "code",
   "execution_count": null,
   "outputs": [],
   "source": [
    "unuse_col = ['RA', 'SS', 'Systemic Sclerosis', 'APS', 'Autoimmune thyroiditis', 'icd10_SLE_dates', 'icd10_RA_dates', 'icd10_SS_dates', 'icd10_Systemic Sclerosis_dates', 'icd10_APS_dates', 'icd10_Autoimmune thyroiditis_dates', 'srd_RA', 'srd_SS', 'srd_Systemic Sclerosis', 'srd_APS', 'srd_Autoimmune thyroiditis', 'bmi', 'date_attend', 'birth_year', 'birth_month', 'fp-len', 'fp-RA', 'fp-SS', 'fp-Systemic Sclerosis', 'fp-APS', 'fp-Autoimmune thyroiditis', 'age']\n",
    "immune_pro.drop(columns=unuse_col, inplace=True)\n",
    "print(immune_pro.columns.tolist())"
   ],
   "metadata": {
    "collapsed": false
   },
   "id": "78a1d32e6571cd83"
  },
  {
   "cell_type": "code",
   "execution_count": null,
   "outputs": [],
   "source": [
    "# sle_pro = immune_pro[immune_pro[\"srd_SLE\"].isna()]\n",
    "sle_pro = immune_pro[immune_pro[\"fp-SLE\"] > 0]\n",
    "sle_pro.drop([\"srd_SLE\"], axis=1, inplace=True)\n",
    "sle_pro = sle_pro.fillna(sle_pro.median(numeric_only=True))\n",
    "sle_pro_5 = sle_pro[sle_pro[\"eid\"].isin(within_five_eid)]\n",
    "sle_pro_10 = sle_pro[sle_pro[\"eid\"].isin(five_ten_eid)]\n",
    "sle_pro_15 = sle_pro[sle_pro[\"eid\"].isin(ten_fifteen_eid)]\n",
    "sle_control = sle_pro[sle_pro[\"SLE\"]==0]\n",
    "sle_pro_5_cox = pd.concat([sle_pro_5, sle_control], ignore_index=True)\n",
    "sle_pro_10_cox = pd.concat([sle_pro_10, sle_control], ignore_index=True)\n",
    "sle_pro_15_cox = pd.concat([sle_pro_15, sle_control], ignore_index=True)"
   ],
   "metadata": {
    "collapsed": false
   },
   "id": "12cc21961aa7bdeb"
  },
  {
   "cell_type": "code",
   "execution_count": null,
   "outputs": [],
   "source": [
    "pro_cols = [col for col in sle_pro.columns if col not in [\"eid\", \"sex\", \"ethnicity\", \"alcohol_amount\", \"SLE\",\"fp-SLE\"]]\n",
    "covar_cols = ['sex', 'ethnicity']"
   ],
   "metadata": {
    "collapsed": false
   },
   "id": "971291b98bcbf6fa"
  },
  {
   "cell_type": "code",
   "execution_count": null,
   "outputs": [],
   "source": [
    "import pandas as pd\n",
    "from lifelines import CoxPHFitter\n",
    "from tqdm import tqdm\n",
    "from statsmodels.stats.multitest import multipletests\n",
    "from statsmodels.stats.multitest import fdrcorrection\n",
    "from mne.stats import bonferroni_correction\n",
    "\n",
    "from scipy.stats import norm\n",
    "import numpy as np\n",
    "\n",
    "def cox_cal(cox_data, out_file):\n",
    "\n",
    "    results_all = []    \n",
    "    n_tests = len(pro_cols)\n",
    "\n",
    "    for t, t_pro in enumerate(tqdm(pro_cols, desc=\"Processing features\")):\n",
    "        try:\n",
    "\n",
    "            t_col = [\"SLE\",\"fp-SLE\",t_pro] + covar_cols\n",
    "            t_ra_pro = cox_data[t_col].copy() \n",
    "            t_ra_pro.rename(columns={t_pro: \"target_pro\"}, inplace=True)\n",
    "\n",
    "            cph = CoxPHFitter()\n",
    "            cph.fit(t_ra_pro, duration_col=\"fp-SLE\", event_col=\"SLE\", formula=\" + \".join(['target_pro'] + covar_cols))\n",
    "\n",
    "            hr = cph.hazard_ratios_.get('target_pro', None)\n",
    "\n",
    "            if '95% lower-bound' in cph.confidence_intervals_.columns:\n",
    "                conf_int = cph.confidence_intervals_.loc['target_pro']\n",
    "                lbd, ubd = conf_int['95% lower-bound'], conf_int['95% upper-bound']\n",
    "            else:\n",
    "                lbd, ubd = None, None\n",
    "\n",
    "            pval = cph.summary.loc['target_pro', 'p']\n",
    "            results_all.append({'Feature': t_pro, 'HR': hr, 'Lower CI': lbd, 'Upper CI': ubd, 'p-value': pval})\n",
    "\n",
    "        except Exception as e:\n",
    "            print(f\"Error processing feature '{t_pro}': {e}\")\n",
    "\n",
    "    results_all_df = pd.DataFrame(results_all)\n",
    "    # FDR correction\n",
    "    _, p_f_fdr = fdrcorrection(results_all_df['p-value'].fillna(1))\n",
    "    \n",
    "    # Bonferroni correction\n",
    "    alpha = 0.05\n",
    "    p_f_bfi = results_all_df['p-value'].fillna(1) * len(results_all_df)  # Bonferroni correction\n",
    "    p_f_bfi = p_f_bfi.clip(upper=alpha)  # Ensure p-values do not exceed alpha level\n",
    "    \n",
    "    results_all_df[\"Bonferroni\"] = p_f_bfi\n",
    "    results_all_df[\"FDR\"] = p_f_fdr\n",
    "    results_all_df.to_csv(out_file, index=False)\n"
   ],
   "metadata": {
    "collapsed": false
   },
   "id": "5b8581bbc9c4f197"
  },
  {
   "cell_type": "code",
   "execution_count": null,
   "outputs": [],
   "source": [
    "cox_cal(sle_pro, \"/Volumes/data_files/UKB_data/immune_result/cox3/sle_pro_cox.csv\")\n",
    "# cox_cal(sle_pro_5_cox, \"/Volumes/data_files/UKB_data/immune_result/cox3/sle_pro_5_cox.csv\")\n",
    "# cox_cal(sle_pro_10_cox, \"/Volumes/data_files/UKB_data/immune_result/cox3/sle_pro_10_cox.csv\")\n",
    "# cox_cal(sle_pro_15_cox, \"/Volumes/data_files/UKB_data/immune_result/cox3/sle_pro_15_cox.csv\")"
   ],
   "metadata": {
    "collapsed": false
   },
   "id": "30bc9de10732892d"
  }
 ],
 "metadata": {
  "kernelspec": {
   "display_name": "Python 3",
   "language": "python",
   "name": "python3"
  },
  "language_info": {
   "codemirror_mode": {
    "name": "ipython",
    "version": 2
   },
   "file_extension": ".py",
   "mimetype": "text/x-python",
   "name": "python",
   "nbconvert_exporter": "python",
   "pygments_lexer": "ipython2",
   "version": "2.7.6"
  }
 },
 "nbformat": 4,
 "nbformat_minor": 5
}

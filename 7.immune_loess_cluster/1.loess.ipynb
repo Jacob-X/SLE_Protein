{
 "cells": [
  {
   "cell_type": "code",
   "execution_count": 3,
   "id": "initial_id",
   "metadata": {
    "collapsed": true,
    "ExecuteTime": {
     "end_time": "2025-01-15T06:30:15.998627Z",
     "start_time": "2025-01-15T06:30:15.941479Z"
    }
   },
   "outputs": [],
   "source": [
    "import pandas as pd\n"
   ]
  },
  {
   "cell_type": "code",
   "execution_count": 4,
   "outputs": [],
   "source": [
    "sle_pro_cox = pd.read_csv(\"/Volumes/data_files/UKB_data/immune_result/cox3/sle_pro_cox.csv\")\n",
    "sle_pro_5_cox = pd.read_csv(\"/Volumes/data_files/UKB_data/immune_result/cox3/sle_pro_5_cox.csv\")\n",
    "sle_pro_10_cox = pd.read_csv(\"/Volumes/data_files/UKB_data/immune_result/cox3/sle_pro_10_cox.csv\")\n",
    "sle_pro_15_cox = pd.read_csv(\"/Volumes/data_files/UKB_data/immune_result/cox3/sle_pro_15_cox.csv\")\n",
    "\n",
    "sle_pro_cox = sle_pro_cox[sle_pro_cox['Bonferroni']<0.05]\n",
    "sle_pro_5_cox = sle_pro_5_cox[sle_pro_5_cox['Bonferroni']<0.05]\n",
    "sle_pro_10_cox = sle_pro_10_cox[sle_pro_10_cox['Bonferroni']<0.05]\n",
    "sle_pro_15_cox = sle_pro_15_cox[sle_pro_15_cox['Bonferroni']<0.05]\n",
    "\n",
    "sle_pro_cox_cols = sle_pro_cox[\"Feature\"].tolist()\n",
    "sle_pro_cox_cols = sle_pro_cox_cols + [\"SLE\", \"fp-SLE\",'sex', 'ethnicity', 'alcohol_amount']\n",
    "sle_pro_5_cox_cols = sle_pro_5_cox[\"Feature\"].tolist()\n",
    "sle_pro_5_cox_cols = sle_pro_5_cox_cols + [\"SLE\", \"fp-SLE\",'sex', 'ethnicity', 'alcohol_amount']\n",
    "sle_pro_10_cox_cols = sle_pro_10_cox[\"Feature\"].tolist()\n",
    "sle_pro_10_cox_cols = sle_pro_10_cox_cols + [\"SLE\", \"fp-SLE\",'sex', 'ethnicity', 'alcohol_amount']\n",
    "sle_pro_15_cox_cols = sle_pro_15_cox[\"Feature\"].tolist()\n",
    "sle_pro_15_cox_cols = sle_pro_15_cox_cols + [\"SLE\", \"fp-SLE\",'sex', 'ethnicity', 'alcohol_amount']\n"
   ],
   "metadata": {
    "collapsed": false,
    "ExecuteTime": {
     "end_time": "2025-01-15T06:30:16.442300Z",
     "start_time": "2025-01-15T06:30:16.392781Z"
    }
   },
   "id": "c904cc12b89e1b51"
  },
  {
   "cell_type": "code",
   "execution_count": 5,
   "outputs": [],
   "source": [
    "time_group = pd.read_csv(\"/Volumes/data_files/UKB_data/processed_data/sle_group.csv\")\n",
    "\n",
    "within_five = time_group[time_group[\"Group\"]==\"0-5\"]\n",
    "within_five_eid = within_five[\"eid\"].tolist()\n",
    "\n",
    "five_ten = time_group[time_group[\"Group\"]==\"5-10\"]\n",
    "five_ten_eid = five_ten[\"eid\"].tolist()\n",
    "\n",
    "ten_fifteen = time_group[time_group[\"Group\"]==\"10-15\"]\n",
    "ten_fifteen_eid = ten_fifteen[\"eid\"].tolist()"
   ],
   "metadata": {
    "collapsed": false,
    "ExecuteTime": {
     "end_time": "2025-01-15T06:30:17.148144Z",
     "start_time": "2025-01-15T06:30:17.128383Z"
    }
   },
   "id": "a993cc975254fc5f"
  },
  {
   "cell_type": "code",
   "execution_count": 6,
   "outputs": [
    {
     "name": "stdout",
     "output_type": "stream",
     "text": [
      "['eid', 'a1bg', 'aamdc', 'aarsd1', 'abca2', 'abhd14b', 'abl1', 'abo', 'abraxas2', 'acaa1', 'acadm', 'acadsb', 'acan', 'ace', 'ace2', 'ache', 'acot13', 'acox1', 'acp1', 'acp5', 'acp6', 'acrbp', 'acrv1', 'acsl1', 'acta2', 'actn2', 'actn4', 'acvrl1', 'acy1', 'acy3', 'acyp1', 'ada', 'ada2', 'adam12', 'adam15', 'adam22', 'adam23', 'adam8', 'adam9', 'adamts1', 'adamts13', 'adamts15', 'adamts16', 'adamts4', 'adamts8', 'adamtsl2', 'adamtsl4', 'adamtsl5', 'adcyap1r1', 'add1', 'adgrb3', 'adgrd1', 'adgre1', 'adgre2', 'adgre5', 'adgrf5', 'adgrg1', 'adgrg2', 'adgrv1', 'adh1b', 'adh4', 'adipoq', 'adm', 'adra2a', 'afap1', 'afm', 'afp', 'agbl2', 'ager', 'agr2', 'agr3', 'agrn', 'agrp', 'agt', 'agxt', 'ahcy', 'ahnak', 'ahnak2', 'ahsa1', 'ahsg', 'ahsp', 'aida', 'aif1', 'aif1l', 'aifm1', 'ak1', 'ak2', 'akap12', 'akr1b1', 'akr1b10', 'akr1c4', 'akr7l', 'akt1s1', 'akt2', 'akt3', 'alcam', 'aldh1a1', 'aldh2', 'aldh3a1', 'aldh5a1', 'alms1', 'alpi', 'alpp', 'ambn', 'ambp', 'amdhd2', 'amfr', 'amigo1', 'amigo2', 'amn', 'amot', 'amotl2', 'ampd3', 'amy1a_amy1b_amy1c', 'amy2a', 'amy2b', 'ang', 'angpt1', 'angpt2', 'angptl1', 'angptl2', 'angptl3', 'angptl4', 'angptl7', 'ank2', 'ankmy2', 'ankra2', 'ankrd54', 'anp32c', 'anpep', 'anxa1', 'anxa10', 'anxa11', 'anxa2', 'anxa3', 'anxa4', 'anxa5', 'aoc1', 'aoc3', 'ap1g2', 'ap2b1', 'ap3b1', 'ap3s2', 'apbb1ip', 'apcs', 'apex1', 'aplp1', 'apoa1', 'apoa2', 'apoa4', 'apob', 'apobr', 'apoc1', 'apod', 'apoe', 'apof', 'apoh', 'apol1', 'apom', 'app', 'appl2', 'aprt', 'araf', 'areg', 'arf6', 'arfip1', 'arg1', 'arg2', 'arhgap1', 'arhgap25', 'arhgap30', 'arhgap45', 'arhgap5', 'arhgef1', 'arhgef10', 'arhgef12', 'arhgef5', 'arid3a', 'arid4b', 'arl13b', 'arl2bp', 'armcx2', 'arnt', 'arntl', 'arsa', 'arsb', 'art3', 'art5', 'artn', 'asah1', 'asah2', 'asgr1', 'asgr2', 'aspn', 'aspscr1', 'asrgl1', 'ass1', 'atf2', 'atf4', 'atg16l1', 'atg4a', 'atox1', 'atp1b1', 'atp1b2', 'atp1b3', 'atp1b4', 'atp2b4', 'atp5f1d', 'atp5if1', 'atp5po', 'atp6ap2', 'atp6v1d', 'atp6v1f', 'atp6v1g1', 'atp6v1g2', 'atraid', 'atrn', 'atxn10', 'atxn2', 'atxn2l', 'atxn3', 'axin1', 'axl', 'azi2', 'azu1', 'b2m', 'b3gat3', 'b3gnt7', 'b4galt1', 'b4gat1', 'babam1', 'bach1', 'bag3', 'bag4', 'bag6', 'baiap2', 'bambi', 'bank1', 'bap18', 'batf', 'bax', 'bcam', 'bcan', 'bcat1', 'bcat2', 'bche', 'bcl2', 'bcl2l1', 'bcl2l11', 'bcl2l15', 'bcl7a', 'bcl7b', 'bcr', 'bdnf', 'becn1', 'bex3', 'bglap', 'bgn', 'bhlhe40', 'bhmt2', 'bid', 'bin2', 'birc2', 'blmh', 'blnk', 'bloc1s2', 'bloc1s3', 'blvrb', 'bmp10', 'bmp4', 'bmp6', 'bmper', 'bnip2', 'bnip3l', 'boc', 'bola1', 'bola2_bola2b', 'bpifa2', 'bpifb1', 'bpifb2', 'brap', 'brd1', 'brd2', 'brd3', 'brdt', 'brk1', 'brme1', 'brsk2', 'bsg', 'bsnd', 'bst1', 'bst2', 'btc', 'btd', 'btla', 'btn1a1', 'btn2a1', 'btn3a2', 'btnl10', 'c19orf12', 'c1galt1c1', 'c1qa', 'c1qbp', 'c1ql2', 'c1qtnf1', 'c1qtnf5', 'c1qtnf6', 'c1qtnf9', 'c1r', 'c1rl', 'c1s', 'c2', 'c2cd2l', 'c2orf69', 'c3', 'c4bpb', 'c5', 'c7', 'c7orf50', 'c8b', 'c9', 'c9orf40', 'ca1', 'ca11', 'ca12', 'ca13', 'ca14', 'ca2', 'ca3', 'ca4', 'ca5a', 'ca6', 'ca7', 'ca8', 'ca9', 'cabp2', 'cacna1c', 'cacna1h', 'cacnb1', 'cacnb3', 'cacybp', 'cadps', 'calb1', 'calb2', 'calca', 'calcb', 'calcoco1', 'calcoco2', 'caly', 'camkk1', 'camlg', 'camsap1', 'cant1', 'capg', 'capn3', 'caps', 'carhsp1', 'casc3', 'casp1', 'casp10', 'casp2', 'casp3', 'casp4', 'casp7', 'casp8', 'casp9', 'casq2', 'cat', 'cblif', 'cbln1', 'cbln4', 'cbs', 'cbx2', 'cc2d1a', 'ccar2', 'ccdc134', 'ccdc28a', 'ccdc50', 'ccdc80', 'ccer2', 'ccl11', 'ccl13', 'ccl14', 'ccl15', 'ccl16', 'ccl17', 'ccl18', 'ccl19', 'ccl2', 'ccl20', 'ccl21', 'ccl22', 'ccl23', 'ccl24', 'ccl25', 'ccl26', 'ccl27', 'ccl28', 'ccl3', 'ccl4', 'ccl5', 'ccl7', 'ccl8', 'ccn1', 'ccn2', 'ccn3', 'ccn4', 'ccn5', 'ccnd2', 'ccne1', 'ccs', 'cct5', 'cd101', 'cd109', 'cd14', 'cd160', 'cd163', 'cd164', 'cd164l2', 'cd177', 'cd1c', 'cd2', 'cd200', 'cd200r1', 'cd207', 'cd209', 'cd22', 'cd226', 'cd244', 'cd248', 'cd27', 'cd274', 'cd276', 'cd28', 'cd2ap', 'cd300a', 'cd300c', 'cd300e', 'cd300lf', 'cd300lg', 'cd302', 'cd33', 'cd34', 'cd36', 'cd38', 'cd3d', 'cd3e', 'cd3g', 'cd4', 'cd40', 'cd40lg', 'cd46', 'cd48', 'cd5', 'cd55', 'cd58', 'cd59', 'cd5l', 'cd6', 'cd63', 'cd69', 'cd7', 'cd70', 'cd72', 'cd74', 'cd79b', 'cd80', 'cd82', 'cd83', 'cd84', 'cd86', 'cd8a', 'cd93', 'cd99', 'cd99l2', 'cda', 'cdan1', 'cdc123', 'cdc25a', 'cdc26', 'cdc27', 'cdc37', 'cdc42bpb', 'cdcp1', 'cdh1', 'cdh15', 'cdh17', 'cdh2', 'cdh22', 'cdh23', 'cdh3', 'cdh4', 'cdh5', 'cdh6', 'cdhr1', 'cdhr2', 'cdhr5', 'cdk1', 'cdk5rap3', 'cdkl5', 'cdkn1a', 'cdkn2d', 'cdnf', 'cdon', 'cdsn', 'ceacam1', 'ceacam16', 'ceacam18', 'ceacam19', 'ceacam20', 'ceacam21', 'ceacam3', 'ceacam5', 'ceacam6', 'ceacam8', 'cebpa', 'cebpb', 'cela2a', 'cela3a', 'celsr2', 'cemip2', 'cend1', 'cenpf', 'cenpj', 'cep112', 'cep152', 'cep164', 'cep170', 'cep20', 'cep290', 'cep350', 'cep43', 'cep85', 'cert', 'ces1', 'ces2', 'ces3', 'cetn2', 'cetn3', 'cfb', 'cfc1', 'cfd', 'cfh', 'cfhr2', 'cfhr4', 'cfhr5', 'cfi', 'cfp', 'cga', 'cgb3_cgb5_cgb8', 'cgn', 'cgref1', 'chac2', 'chad', 'chchd10', 'chchd6', 'chek2', 'chga', 'chgb', 'chi3l1', 'chit1', 'chl1', 'chm', 'chmp1a', 'chmp6', 'chp1', 'chrdl1', 'chrdl2', 'chrm1', 'ciapin1', 'cilp', 'cinp', 'cirbp', 'cit', 'ckap4', 'ckb', 'ckmt1a_ckmt1b', 'clasp1', 'clc', 'clec10a', 'clec11a', 'clec12a', 'clec14a', 'clec1a', 'clec1b', 'clec2l', 'clec3b', 'clec4a', 'clec4c', 'clec4d', 'clec4g', 'clec4m', 'clec5a', 'clec6a', 'clec7a', 'clgn', 'clic5', 'clint1', 'clip2', 'clmp', 'clns1a', 'clpp', 'clps', 'clspn', 'clstn1', 'clstn2', 'clstn3', 'clta', 'clu', 'clul1', 'cmc1', 'cmip', 'cndp1', 'cngb3', 'cnp', 'cnpy2', 'cnpy4', 'cnst', 'cntf', 'cntn1', 'cntn2', 'cntn3', 'cntn4', 'cntn5', 'cntnap2', 'cntnap4', 'coch', 'col15a1', 'col18a1', 'col1a1', 'col24a1', 'col28a1', 'col2a1', 'col3a1', 'col4a1', 'col4a4', 'col5a1', 'col6a3', 'col9a1', 'col9a2', 'colec12', 'commd1', 'commd9', 'comp', 'comt', 'copb2', 'cope', 'coq7', 'coro1a', 'coro6', 'cox5b', 'cox6b1', 'cpa1', 'cpa2', 'cpa4', 'cpb1', 'cpb2', 'cpe', 'cplx2', 'cpm', 'cpox', 'cpped1', 'cpq', 'cptp', 'cpvl', 'cpxm1', 'cpxm2', 'cr1', 'cr2', 'cracr2a', 'cradd', 'creb3', 'crebzf', 'creg1', 'creld1', 'creld2', 'crh', 'crhbp', 'crhr1', 'crim1', 'crip2', 'crisp2', 'crisp3', 'crkl', 'crlf1', 'crnn', 'crtac1', 'crtam', 'crtap', 'crx', 'crybb1', 'crybb2', 'crygd', 'crym', 'cryzl1', 'csde1', 'csf1', 'csf1r', 'csf2', 'csf2ra', 'csf2rb', 'csf3', 'csf3r', 'csh1', 'csnk1d', 'csnk2a1', 'cspg4', 'cspg5', 'csrp3', 'cst1', 'cst3', 'cst5', 'cst6', 'cst7', 'cstb', 'ctag1a_ctag1b', 'ctbs', 'ctf1', 'cthrc1', 'ctla4', 'ctnna1', 'ctrb1', 'ctrc', 'ctrl', 'ctsb', 'ctsc', 'ctsd', 'ctse', 'ctsf', 'ctsh', 'ctsl', 'ctso', 'ctss', 'ctsv', 'ctsz', 'cuzd1', 'cwc15', 'cx3cl1', 'cxadr', 'cxcl1', 'cxcl10', 'cxcl11', 'cxcl12', 'cxcl13', 'cxcl14', 'cxcl16', 'cxcl17', 'cxcl3', 'cxcl5', 'cxcl6', 'cxcl8', 'cxcl9', 'cyb5a', 'cyb5r2', 'cyp24a1', 'cyth3', 'cytl1', 'daam1', 'dab2', 'dag1', 'dand5', 'dapk2', 'dapp1', 'dars1', 'dbh', 'dbi', 'dbn1', 'dbnl', 'dcbld2', 'dcc', 'dcdc2c', 'dclre1c', 'dcn', 'dctd', 'dctn1', 'dctn2', 'dctn6', 'dctpp1', 'dcun1d1', 'dcun1d2', 'dcxr', 'dda1', 'ddah1', 'ddc', 'ddhd2', 'ddi2', 'ddr1', 'ddt', 'ddx1', 'ddx25', 'ddx39a', 'ddx4', 'ddx53', 'ddx58', 'decr1', 'defa1_defa1b', 'defb103a_defb103b', 'defb104a_defb104b', 'defb116', 'defb118', 'defb4a_defb4b', 'dennd2b', 'denr', 'dffa', 'dgcr6', 'dgka', 'dgkz', 'dhodh', 'dhps', 'dhrs4l2', 'diablo', 'dipk1c', 'dipk2b', 'dkk1', 'dkk3', 'dkk4', 'dkkl1', 'dlg4', 'dlgap5', 'dlk1', 'dll1', 'dll4', 'dmd', 'dmp1', 'dnaja1', 'dnaja2', 'dnaja4', 'dnajb1', 'dnajb14', 'dnajb2', 'dnajb6', 'dnajb8', 'dnajc21', 'dnajc6', 'dnajc9', 'dner', 'dnlz', 'dnm1', 'dnm3', 'dnmbp', 'dnpep', 'dnph1', 'doc2b', 'dock9', 'dok1', 'dok2', 'dpep1', 'dpep2', 'dpp10', 'dpp4', 'dpp6', 'dpp7', 'dpt', 'dpy30', 'draxin', 'drg2', 'dsc2', 'dscam', 'dsg2', 'dsg3', 'dsg4', 'dtd1', 'dtnb', 'dtx2', 'dtx3', 'dtymk', 'duox2', 'dusp13', 'dusp29', 'dusp3', 'dut', 'dxo', 'dync1h1', 'dynlt1', 'dynlt3', 'ebag9', 'ebi3_il27', 'ece1', 'echdc3', 'echs1', 'eci2', 'ecm1', 'ecscr', 'eda2r', 'edar', 'eddm3b', 'edem2', 'edf1', 'edil3', 'edn1', 'ednrb', 'eef1d', 'efcab14', 'efcab2', 'efemp1', 'efhd1', 'efna1', 'efna4', 'efnb2', 'egf', 'egfl7', 'egflam', 'egfr', 'egln1', 'ehbp1', 'ehd3', 'eif1ax', 'eif2ak2', 'eif2ak3', 'eif2s2', 'eif4b', 'eif4e', 'eif4ebp1', 'eif4g1', 'eif4g3', 'eif5', 'eif5a', 'elac1', 'elavl4', 'eln', 'eloa', 'elob', 'enah', 'endou', 'eng', 'eno1', 'eno2', 'eno3', 'enoph1', 'enox2', 'enpep', 'enpp2', 'enpp5', 'enpp6', 'enpp7', 'ensa', 'entpd2', 'entpd5', 'entpd6', 'entr1', 'ep300', 'epb41l5', 'epcam', 'epgn', 'epha1', 'epha10', 'epha2', 'epha4', 'ephb4', 'ephb6', 'ephx2', 'epn1', 'epo', 'eppk1', 'eps8l2', 'erbb2', 'erbb3', 'erbb4', 'erbin', 'erc2', 'ercc1', 'ereg', 'eri1', 'ermap', 'ern1', 'erp29', 'erp44', 'ervv_1', 'esam', 'esm1', 'espl1', 'esr1', 'esyt2', 'evi2b', 'evi5', 'evpl', 'exosc10', 'extl1', 'ezr', 'f10', 'f11', 'f11r', 'f12', 'f13b', 'f2', 'f2r', 'f3', 'f7', 'f9', 'fabp1', 'fabp2', 'fabp3', 'fabp4', 'fabp5', 'fabp6', 'fabp9', 'fadd', 'fam13a', 'fam171a2', 'fam171b', 'fam172a', 'fam20a', 'fam3b', 'fam3c', 'fam3d', 'fap', 'farsa', 'fas', 'faslg', 'fbln2', 'fbn2', 'fbp1', 'fcamr', 'fcar', 'fcer1a', 'fcer2', 'fcgr2a', 'fcgr2b', 'fcgr3b', 'fcn1', 'fcn2', 'fcrl1', 'fcrl2', 'fcrl3', 'fcrl5', 'fcrl6', 'fcrlb', 'fdx1', 'fdx2', 'fen1', 'fes', 'fetub', 'fga', 'fgd3', 'fgf12', 'fgf16', 'fgf19', 'fgf2', 'fgf20', 'fgf21', 'fgf23', 'fgf3', 'fgf5', 'fgf6', 'fgf7', 'fgf9', 'fgfbp1', 'fgfbp2', 'fgfbp3', 'fgfr2', 'fgfr4', 'fgl1', 'fgr', 'fh', 'fhip2a', 'fhit', 'fis1', 'fkbp14', 'fkbp1b', 'fkbp4', 'fkbp5', 'fkbp7', 'fkbpl', 'fli1', 'flrt2', 'flt1', 'flt3', 'flt3lg', 'flt4', 'fmnl1', 'fmr1', 'fn1', 'fndc1', 'fnta', 'folh1', 'folr1', 'folr2', 'folr3', 'fos', 'fosb', 'foxj3', 'foxo1', 'foxo3', 'frmd4b', 'frmd7', 'frzb', 'fshb', 'fst', 'fstl1', 'fstl3', 'ftcd', 'fuca1', 'fuom', 'furin', 'fus', 'fut1', 'fut3_fut5', 'fut8', 'fxn', 'fxyd5', 'fyb1', 'fzd10', 'fzd8', 'gabarap', 'gabarapl1', 'gabra4', 'gad1', 'gad2', 'gadd45b', 'gadd45gip1', 'gage2a', 'gal', 'galnt10', 'galnt2', 'galnt3', 'galnt5', 'galnt7', 'gamt', 'gapdh', 'gart', 'gas2', 'gas6', 'gask1a', 'gast', 'gata3', 'gatd3', 'gba', 'gbp1', 'gbp2', 'gbp4', 'gbp6', 'gc', 'gcc1', 'gcg', 'gchfr', 'gclm', 'gcnt1', 'gdf15', 'gdf2', 'gdnf', 'get3', 'gfap', 'gfer', 'gfod2', 'gfra1', 'gfra2', 'gfra3', 'gfral', 'gga1', 'ggact', 'ggct', 'ggh', 'ggt1', 'ggt5', 'gh1', 'gh2', 'ghr', 'ghrhr', 'ghrl', 'gid8', 'gigyf2', 'gimap7', 'gimap8', 'gip', 'gipc2', 'gipc3', 'gipr', 'git1', 'gja8', 'gkn1', 'gla', 'glb1', 'gli2', 'glipr1', 'glo1', 'glod4', 'glp1r', 'glrx', 'glrx5', 'glt8d2', 'glyr1', 'gm2a', 'gmfg', 'gmpr', 'gmpr2', 'gnas', 'gne', 'gngt1', 'gnly', 'gnpda1', 'gnpda2', 'golga3', 'golm2', 'gopc', 'gorasp2', 'got1', 'gp1ba', 'gp1bb', 'gp2', 'gp5', 'gp6', 'gpa33', 'gpc1', 'gpc5', 'gpd1', 'gpha2', 'gpi', 'gpihbp1', 'gpkow', 'gpnmb', 'gpr101', 'gpr158', 'gpr15l', 'gpr37', 'gprc5c', 'grap2', 'grhpr', 'grik2', 'grin2b', 'grk5', 'grn', 'grp', 'grpel1', 'grsf1', 'gsap', 'gsn', 'gsr', 'gsta1', 'gsta3', 'gstm4', 'gstp1', 'gstt2b', 'gtf2ird1', 'gtpbp2', 'guca2a', 'gucy2c', 'guk1', 'gusb', 'gys1', 'gzma', 'gzmb', 'gzmh', 'h2ap', 'hadh', 'hagh', 'hao1', 'hars1', 'havcr1', 'havcr2', 'hbegf', 'hbq1', 'hbz', 'hcg22', 'hcls1', 'hdac8', 'hdac9', 'hddc2', 'hdgf', 'hdgfl2', 'hebp1', 'heg1', 'hepacam2', 'heph', 'hexim1', 'hgf', 'hgfac', 'hgs', 'hhex', 'hif1a', 'hip1', 'hip1r', 'hjv', 'hk2', 'hla_a', 'hla_dra', 'hla_e', 'hmbs', 'hmcn2', 'hmgcl', 'hmgcs1', 'hmmr', 'hmox1', 'hmox2', 'hnf1a', 'hnmt', 'hnrnpk', 'hnrnpul1', 'hpcal1', 'hpgds', 'hpse', 'hras', 'hrc', 'hrg', 'hs1bp3', 'hs3st3b1', 'hs6st1', 'hs6st2', 'hsbp1', 'hsd11b1', 'hsd17b14', 'hsd17b3', 'hsdl2', 'hsp90b1', 'hspa1a', 'hspa2', 'hspb1', 'hspb6', 'hspg2', 'htr1a', 'htr1b', 'htra2', 'hyal1', 'hyou1', 'ica1', 'icam1', 'icam2', 'icam3', 'icam4', 'icam5', 'icoslg', 'id4', 'idi2', 'ido1', 'ids', 'idua', 'ifi30', 'ifit1', 'ifit3', 'ifnar1', 'ifng', 'ifngr1', 'ifngr2', 'ifnl1', 'ifnl2', 'ifnlr1', 'ifnw1', 'ift20', 'igbp1', 'igdcc3', 'igdcc4', 'igf1r', 'igf2bp3', 'igf2r', 'igfbp1', 'igfbp2', 'igfbp3', 'igfbp4', 'igfbp6', 'igfbp7', 'igfbpl1', 'igfl4', 'ighmbp2', 'iglc2', 'iglon5', 'igsf21', 'igsf3', 'igsf8', 'igsf9', 'ikbkg', 'ikzf2', 'il10', 'il10ra', 'il10rb', 'il11', 'il12a_il12b', 'il12b', 'il12rb1', 'il12rb2', 'il13', 'il13ra1', 'il13ra2', 'il15', 'il15ra', 'il16', 'il17a', 'il17c', 'il17d', 'il17f', 'il17ra', 'il17rb', 'il18', 'il18bp', 'il18r1', 'il18rap', 'il19', 'il1a', 'il1b', 'il1r1', 'il1r2', 'il1rap', 'il1rl1', 'il1rl2', 'il1rn', 'il2', 'il20', 'il20ra', 'il20rb', 'il21r', 'il22', 'il22ra1', 'il24', 'il25', 'il2ra', 'il2rb', 'il2rg', 'il3', 'il31', 'il31ra', 'il32', 'il33', 'il34', 'il36a', 'il36g', 'il3ra', 'il4', 'il4r', 'il5', 'il5ra', 'il6', 'il6r', 'il6st', 'il7', 'il7r', 'il9', 'ilkap', 'immt', 'impa1', 'impact', 'impg1', 'ing1', 'inhbb', 'inhbc', 'inpp1', 'inpp5d', 'inpp5j', 'inppl1', 'insl3', 'insl4', 'insl5', 'insr', 'ipcef1', 'iqgap2', 'irag2', 'irak1', 'irak4', 'islr2', 'ism1', 'ism2', 'ist1', 'itga11', 'itga2', 'itga5', 'itga6', 'itgal', 'itgam', 'itgav', 'itgax', 'itgb1', 'itgb1bp1', 'itgb1bp2', 'itgb2', 'itgb5', 'itgb6', 'itgb7', 'itgbl1', 'itih1', 'itih3', 'itih4', 'itih5', 'itm2a', 'itpa', 'itpr1', 'itprip', 'ivd', 'izumo1', 'jam2', 'jam3', 'jchain', 'jmjd1c', 'jpt2', 'jun', 'kazald1', 'kazn', 'kcnc4', 'kcnh2', 'kcnip4', 'kctd5', 'kdm3a', 'kdr', 'kel', 'khdc3l', 'khk', 'kiaa0319', 'kiaa1549', 'kiaa1549l', 'kiaa2013', 'kif1c', 'kif20b', 'kif22', 'kifbp', 'kir2dl2', 'kir2dl3', 'kir2ds4', 'kir3dl1', 'kir3dl2', 'kirrel1', 'kirrel2', 'kit', 'kitlg', 'klb', 'klf4', 'klhl41', 'klk1', 'klk10', 'klk11', 'klk12', 'klk13', 'klk14', 'klk15', 'klk3', 'klk4', 'klk6', 'klk7', 'klk8', 'klkb1', 'klrb1', 'klrc1', 'klrd1', 'klrf1', 'klrk1', 'krt14', 'krt17', 'krt18', 'krt19', 'krt5', 'krt6c', 'krt8', 'kyat1', 'kynu', 'l1cam', 'l3hypdh', 'lacrt', 'lactb2', 'lag3', 'lair1', 'lair2', 'lama1', 'lama4', 'lamb1', 'lamp1', 'lamp2', 'lamp3', 'lamtor5', 'lap3', 'larp1', 'lat', 'lat2', 'lats1', 'layn', 'lbp', 'lbr', 'lcat', 'lcn15', 'lcn2', 'lcp1', 'ldlr', 'ldlrap1', 'lect2', 'lefty2', 'leg1', 'lelp1', 'leo1', 'lep', 'lepr', 'letm1', 'lgals1', 'lgals3', 'lgals3bp', 'lgals4', 'lgals7_lgals7b', 'lgals8', 'lgals9', 'lgmn', 'lhb', 'lhpp', 'lif', 'lifr', 'lilra2', 'lilra3', 'lilra4', 'lilra5', 'lilra6', 'lilrb1', 'lilrb2', 'lilrb4', 'lilrb5', 'lipf', 'lmnb1', 'lmnb2', 'lmod1', 'lmod2', 'lonp1', 'lpa', 'lpcat2', 'lpl', 'lpo', 'lpp', 'lrch4', 'lrfn2', 'lrg1', 'lrig1', 'lrig3', 'lrp1', 'lrp11', 'lrp2', 'lrp2bp', 'lrpap1', 'lrrc25', 'lrrc37a2', 'lrrc38', 'lrrc59', 'lrrfip1', 'lrrn1', 'lrtm1', 'lrtm2', 'lsm1', 'lsm8', 'lsp1', 'lta', 'lta4h', 'ltb', 'ltbp2', 'ltbp3', 'ltbr', 'lto1', 'luzp2', 'lxn', 'ly6d', 'ly75', 'ly9', 'ly96', 'lyar', 'lyn', 'lypd1', 'lypd3', 'lypd8', 'lypla2', 'lysmd3', 'lyve1', 'lyzl2', 'lztfl1', 'm6pr', 'mad1l1', 'maea', 'mag', 'magea3', 'maged1', 'mamdc2', 'mamdc4', 'man1a2', 'man2b2', 'maneal', 'manf', 'mansc1', 'mansc4', 'map1lc3a', 'map1lc3b2', 'map2', 'map2k1', 'map2k6', 'map3k5', 'map4k5', 'mapk13', 'mapk9', 'mapkapk2', 'mapre3', 'mapt', 'marco', 'mars1', 'masp1', 'matn2', 'matn3', 'mavs', 'max', 'mb', 'mbl2', 'mcam', 'mcee', 'mcemp1', 'mcfd2', 'mcts1', 'mdga1', 'mdh1', 'mdk', 'mdm1', 'mecr', 'med18', 'med21', 'megf10', 'megf11', 'megf9', 'meltf', 'ment', 'mep1a', 'mep1b', 'mepe', 'mertk', 'mesd', 'met', 'metap1', 'metap1d', 'metap2', 'mfap3', 'mfap3l', 'mfap4', 'mfap5', 'mfge8', 'mgll', 'mgmt', 'mia', 'micall2', 'micb_mica', 'mif', 'milr1', 'mindy1', 'mink1', 'mitd1', 'mki67', 'mllt1', 'mln', 'mme', 'mmp1', 'mmp10', 'mmp12', 'mmp13', 'mmp15', 'mmp3', 'mmp7', 'mmp8', 'mmp9', 'mmut', 'mn1', 'mnat1', 'mnda', 'mocs2', 'mog', 'morc3', 'morf4l1', 'morf4l2', 'morn4', 'mphosph8', 'mpi', 'mpig6b', 'mpo', 'mprip', 'mrc1', 'mri1', 'mrpl24', 'mrpl28', 'mrpl46', 'mrpl52', 'mrpl58', 'mrps16', 'msln', 'mslnl', 'msmb', 'msr1', 'msra', 'mst1', 'mstn', 'mtdh', 'mthfd2', 'mthfsd', 'mtif3', 'mtpn', 'mtr', 'mtss1', 'mtss2', 'mtus1', 'muc13', 'muc16', 'muc2', 'mucl3', 'mvk', 'mxra8', 'mybpc1', 'mybpc2', 'mycbp2', 'mydgf', 'myh4', 'myh7b', 'myh9', 'myl1', 'myl3', 'myl4', 'myl6b', 'mylpf', 'myo6', 'myo9b', 'myoc', 'myom1', 'myom2', 'myom3', 'mzb1', 'mzt1', 'naa10', 'naa80', 'naaa', 'nacc1', 'nadk', 'naga', 'nagk', 'nagpa', 'nampt', 'nap1l4', 'naprt', 'nars1', 'nbl1', 'nbn', 'ncam1', 'ncam2', 'ncan', 'ncf2', 'nck2', 'ncln', 'ncr1', 'ncr3lg1', 'ncs1', 'ndrg1', 'ndst1', 'ndufa5', 'ndufb7', 'ndufs6', 'neb', 'necap2', 'nectin1', 'nectin2', 'nectin4', 'nedd4l', 'nedd9', 'nefl', 'nek7', 'nell1', 'nell2', 'nenf', 'neo1', 'nexn', 'nfasc', 'nfat5', 'nfatc1', 'nfatc3', 'nfe2', 'nfic', 'nfkb1', 'nfkb2', 'nfkbie', 'nfu1', 'nfx1', 'nfya', 'ngf', 'ngfr', 'ngrn', 'nhlrc3', 'nid1', 'nid2', 'ninj1', 'nit1', 'nit2', 'nlgn1', 'nlgn2', 'nme1', 'nme3', 'nmi', 'nmnat1', 'nmrk2', 'nmt1', 'nomo1', 'nop56', 'nos1', 'nos2', 'nos3', 'notch1', 'notch2', 'notch3', 'npc2', 'npdc1', 'nphs1', 'nphs2', 'npl', 'npm1', 'nppb', 'nppc', 'npr1', 'nptn', 'nptx1', 'nptx2', 'nptxr', 'npy', 'nrcam', 'nrgn', 'nrn1', 'nrp1', 'nrp2', 'nrtn', 'nrxn3', 'nsfl1c', 'nt5c', 'nt5c1a', 'nt5c3a', 'nt5e', 'ntf3', 'ntf4', 'ntprobnp', 'ntrk2', 'ntrk3', 'nub1', 'nubp1', 'nucb2', 'nudc', 'nudt10', 'nudt15', 'nudt16', 'nudt2', 'nudt5', 'numb', 'nup50', 'nxpe4', 'nxph1', 'nxph3', 'obp2b', 'ocln', 'odam', 'ofd1', 'oga', 'ogfr', 'ogn', 'ogt', 'olfm4', 'olr1', 'omd', 'omg', 'omp', 'ophn1', 'oplah', 'optc', 'orm1', 'osbpl2', 'oscar', 'osm', 'osmr', 'ostn', 'otoa', 'otud6b', 'otud7b', 'oxct1', 'oxt', 'p4hb', 'pacs2', 'padi2', 'padi4', 'paep', 'pafah1b3', 'pafah2', 'pag1', 'pagr1', 'paip2b', 'pak4', 'palld', 'palm', 'palm2', 'palm3', 'pam', 'pamr1', 'pappa', 'pard3', 'park7', 'parp1', 'paxx', 'pbk', 'pbld', 'pbxip1', 'pcare', 'pcbd1', 'pcbp2', 'pcdh1', 'pcdh12', 'pcdh17', 'pcdh7', 'pcdh9', 'pcdhb15', 'pcna', 'pcolce', 'pcsk7', 'pcsk9', 'pcyt2', 'pdap1', 'pdcd1', 'pdcd1lg2', 'pdcd5', 'pdcd6', 'pdcl2', 'pde1c', 'pde4d', 'pde5a', 'pdgfa', 'pdgfb', 'pdgfc', 'pdgfra', 'pdgfrb', 'pdia2', 'pdia3', 'pdia4', 'pdia5', 'pdlim5', 'pdlim7', 'pdp1', 'pdrg1', 'pdxdc1', 'pdzd2', 'pdzk1', 'pear1', 'pebp1', 'pecam1', 'pecr', 'penk', 'pepd', 'per3', 'pf4', 'pfdn2', 'pfdn4', 'pfdn6', 'pfkfb2', 'pga4', 'pgd', 'pgf', 'pglyrp1', 'pglyrp2', 'pglyrp4', 'pgm2', 'pgr', 'phactr2', 'phldb1', 'phldb2', 'phospho1', 'phykpl', 'pi16', 'pi3', 'pibf1', 'pigr', 'pik3ap1', 'pik3ip1', 'pikfyve', 'pilra', 'pilrb', 'pinlyp', 'pithd1', 'pkd1', 'pkd2', 'pklr', 'pkn3', 'pla2g10', 'pla2g15', 'pla2g1b', 'pla2g2a', 'pla2g4a', 'pla2g7', 'plat', 'plau', 'plaur', 'plb1', 'plcb1', 'plcb2', 'plekho1', 'plg', 'plin1', 'plin3', 'plpbp', 'plscr3', 'pltp', 'plxdc1', 'plxdc2', 'plxna4', 'plxnb2', 'plxnb3', 'pm20d1', 'pmch', 'pmm2', 'pms1', 'pmvk', 'pnlip', 'pnliprp1', 'pnliprp2', 'pnma1', 'pnma2', 'pnpt1', 'podxl', 'podxl2', 'pof1b', 'polr2a', 'polr2f', 'pomc', 'pon1', 'pon2', 'pon3', 'postn', 'ppbp', 'ppcdc', 'ppib', 'ppie', 'ppif', 'ppl', 'ppm1a', 'ppm1b', 'ppm1f', 'ppme1', 'ppp1cc', 'ppp1r12a', 'ppp1r12b', 'ppp1r14a', 'ppp1r14d', 'ppp1r2', 'ppp1r9b', 'ppp2r5a', 'ppp3r1', 'ppt1', 'ppy', 'pqbp1', 'prame', 'prap1', 'prc1', 'prcp', 'prdx1', 'prdx2', 'prdx3', 'prdx5', 'prdx6', 'preb', 'prelp', 'prg2', 'prg3', 'prkab1', 'prkag3', 'prkar1a', 'prkar2a', 'prkcq', 'prkd2', 'prkg1', 'prkra', 'prl', 'prnd', 'proc', 'procr', 'prok1', 'pros1', 'prr4', 'prr5', 'prrt3', 'prss2', 'prss22', 'prss27', 'prss53', 'prss8', 'prtfdc1', 'prtg', 'prtn3', 'prune2', 'psap', 'psapl1', 'psca', 'psg1', 'psip1', 'psma1', 'psmc3', 'psmd1', 'psmd5', 'psmd9', 'psme1', 'psme2', 'psmg3', 'psmg4', 'pspn', 'psrc1', 'pstpip2', 'pten', 'ptgds', 'ptges2', 'ptgr1', 'pth', 'pth1r', 'ptk7', 'ptn', 'ptp4a3', 'ptpn1', 'ptpn6', 'ptpn9', 'ptprb', 'ptprc', 'ptprf', 'ptprh', 'ptprk', 'ptprm', 'ptprn2', 'ptprr', 'ptprs', 'ptprz1', 'ptrhd1', 'pts', 'pttg1', 'ptx3', 'pvalb', 'pvr', 'pxdnl', 'pxn', 'pydc1', 'pyy', 'pzp', 'qdpr', 'qpct', 'qsox1', 'rab10', 'rab11fip3', 'rab27b', 'rab2b', 'rab33a', 'rab37', 'rab39b', 'rab3gap1', 'rab44', 'rab6a', 'rab6b', 'rabep1', 'rabepk', 'rabgap1l', 'rac3', 'rad23b', 'rad51', 'ralb', 'raly', 'ranbp1', 'ranbp2', 'rangap1', 'rap1a', 'rapgef2', 'rarres1', 'rarres2', 'rasa1', 'rasgrf1', 'rassf2', 'rbfox3', 'rbks', 'rbm17', 'rbm19', 'rbm25', 'rbp1', 'rbp2', 'rbp5', 'rbp7', 'rbpms', 'rbpms2', 'rcc1', 'rcor1', 'reck', 'reep4', 'reg1a', 'reg1b', 'reg3a', 'reg3g', 'reg4', 'relb', 'relt', 'ren', 'reps1', 'rest', 'ret', 'retn', 'rexo2', 'rfc4', 'rgcc', 'rgl2', 'rgma', 'rgmb', 'rgs10', 'rgs8', 'rhoc', 'rictor', 'rida', 'rilp', 'rilpl2', 'ripk4', 'rln1', 'rln2', 'rnase1', 'rnase10', 'rnase3', 'rnase4', 'rnase6', 'rnaseh2a', 'rnaset2', 'rnf149', 'rnf168', 'rnf31', 'rnf4', 'rnf41', 'rnf43', 'rnf5', 'robo1', 'robo2', 'robo4', 'ror1', 'rp2', 'rpa2', 'rpe', 'rpgr', 'rpl14', 'rps10', 'rras', 'rrm2', 'rrm2b', 'rrp15', 'rspo1', 'rspo3', 'rtbdn', 'rtkn2', 'rtn4ip1', 'rtn4r', 'ruvbl1', 'rwdd1', 'ryr1', 's100a11', 's100a12', 's100a13', 's100a14', 's100a16', 's100a3', 's100a4', 's100g', 's100p', 'saa4', 'safb2', 'sag', 'samd9l', 'sap18', 'sarg', 'sart1', 'sat1', 'sat2', 'satb1', 'sbsn', 'scamp3', 'scara5', 'scarb1', 'scarb2', 'scarf1', 'scarf2', 'scg2', 'scg3', 'scgb1a1', 'scgb2a2', 'scgb3a1', 'scgb3a2', 'scgn', 'scin', 'scly', 'scn2a', 'scn2b', 'scn3a', 'scn3b', 'scn4b', 'scp2', 'scpep1', 'scrg1', 'scrib', 'scrn1', 'sct', 'sdc1', 'sdc4', 'sdccag8', 'sdhb', 'sdk2', 'sec31a', 'sel1l', 'sele', 'selenop', 'sell', 'selp', 'selplg', 'sema3f', 'sema3g', 'sema4c', 'sema4d', 'sema6c', 'sema7a', 'septin3', 'septin7', 'septin8', 'septin9', 'serpina1', 'serpina11', 'serpina12', 'serpina3', 'serpina4', 'serpina5', 'serpina6', 'serpina7', 'serpina9', 'serpinb1', 'serpinb5', 'serpinb6', 'serpinb8', 'serpinb9', 'serpinc1', 'serpind1', 'serpine1', 'serpine2', 'serpinf1', 'serpinf2', 'serping1', 'serpinh1', 'serpini1', 'serpini2', 'sestd1', 'setmar', 'sez6', 'sez6l', 'sez6l2', 'sf3b4', 'sfrp1', 'sfrp4', 'sftpa1', 'sftpa2', 'sftpd', 'sgsh', 'sh2b3', 'sh2d1a', 'sh3bgrl2', 'sh3bp1', 'sh3gl3', 'sh3glb2', 'shbg', 'shc1', 'shd', 'shh', 'shisa5', 'shmt1', 'shpk', 'siae', 'siglec1', 'siglec10', 'siglec15', 'siglec5', 'siglec6', 'siglec7', 'siglec8', 'siglec9', 'sil1', 'sirpa', 'sirpb1', 'sirt1', 'sirt2', 'sirt5', 'sit1', 'skap1', 'skap2', 'skiv2l', 'sla2', 'slamf1', 'slamf6', 'slamf7', 'slamf8', 'slc12a2', 'slc13a1', 'slc16a1', 'slc1a4', 'slc27a4', 'slc28a1', 'slc34a3', 'slc39a14', 'slc39a5', 'slc44a4', 'slc4a1', 'slc51b', 'slc9a3r1', 'slc9a3r2', 'slirp', 'slit2', 'slitrk1', 'slitrk2', 'slitrk6', 'slk', 'slmap', 'slurp1', 'smad1', 'smad2', 'smad3', 'smad5', 'smarca2', 'smc3', 'smndc1', 'smoc1', 'smoc2', 'smpd1', 'smpd3', 'smpdl3a', 'smpdl3b', 'sms', 'smtn', 'snap23', 'snap25', 'snap29', 'snapin', 'snca', 'sncg', 'sned1', 'snrpb2', 'snu13', 'snx15', 'snx18', 'snx2', 'snx5', 'snx9', 'sod1', 'sod2', 'sod3', 'sorbs1', 'sorcs2', 'sord', 'sort1', 'sost', 'sowaha', 'sox2', 'sox9', 'spaca5_spaca5b', 'spag1', 'sparc', 'sparcl1', 'spart', 'spesp1', 'spink1', 'spink2', 'spink4', 'spink5', 'spink6', 'spink8', 'spint1', 'spint2', 'spint3', 'spock1', 'spon1', 'spon2', 'spp1', 'spred2', 'spring1', 'sprr1b', 'sprr3', 'spry2', 'sptbn2', 'sptlc1', 'src', 'srp14', 'srpk2', 'srpx', 'ssb', 'ssbp1', 'ssc4d', 'ssc5d', 'ssh3', 'ssna1', 'st13', 'st3gal1', 'st6gal1', 'st8sia1', 'stab2', 'stam', 'stambp', 'stat2', 'stat5b', 'stau1', 'stc1', 'stc2', 'steap4', 'stip1', 'stk11', 'stk24', 'stk4', 'stoml2', 'stx16', 'stx1b', 'stx3', 'stx4', 'stx5', 'stx6', 'stx7', 'stx8', 'stxbp1', 'stxbp3', 'sugp1', 'sugt1', 'sult1a1', 'sult2a1', 'sumf1', 'sumf2', 'suox', 'susd1', 'susd2', 'susd4', 'susd5', 'sv2a', 'swap70', 'syap1', 'syngap1', 'syt1', 'sytl4', 'tab2', 'tacc3', 'tacstd2', 'tada3', 'tafa5', 'tagln3', 'taldo1', 'tank', 'tap1', 'tarbp2', 'tarm1', 'tars1', 'tax1bp1', 'tbc1d17', 'tbc1d23', 'tbc1d5', 'tbca', 'tbcb', 'tbcc', 'tbl1x', 'tbr1', 'tcl1a', 'tcl1b', 'tcn1', 'tcn2', 'tcof1', 'tcp11', 'tctn3', 'tdgf1', 'tdo2', 'tdp1', 'tdrkh', 'tef', 'tek', 'terf1', 'tet2', 'tex101', 'tex33', 'tf', 'tfap2a', 'tff1', 'tff2', 'tff3', 'tfpi', 'tfpi2', 'tfrc', 'tg', 'tgfa', 'tgfb1', 'tgfb2', 'tgfbi', 'tgfbr1', 'tgfbr2', 'tgfbr3', 'tgm2', 'tgoln2', 'thap12', 'thbd', 'thbs2', 'thbs4', 'thop1', 'thpo', 'thrap3', 'thsd1', 'thtpa', 'thy1', 'tia1', 'tie1', 'tigar', 'tigit', 'timd4', 'timm10', 'timm8a', 'timp1', 'timp2', 'timp3', 'timp4', 'tinagl1', 'tjap1', 'tjp3', 'tk1', 'tlr1', 'tlr2', 'tlr3', 'tlr4', 'tmco5a', 'tmed1', 'tmed10', 'tmed4', 'tmed8', 'tmem106a', 'tmem132a', 'tmem25', 'tmod4', 'tmprss11b', 'tmprss11d', 'tmprss15', 'tmprss5', 'tmsb10', 'tnc', 'tnf', 'tnfaip2', 'tnfaip8', 'tnfaip8l2', 'tnfrsf10a', 'tnfrsf10b', 'tnfrsf10c', 'tnfrsf11a', 'tnfrsf11b', 'tnfrsf12a', 'tnfrsf13b', 'tnfrsf13c', 'tnfrsf14', 'tnfrsf17', 'tnfrsf19', 'tnfrsf1a', 'tnfrsf1b', 'tnfrsf21', 'tnfrsf4', 'tnfrsf6b', 'tnfrsf8', 'tnfrsf9', 'tnfsf10', 'tnfsf11', 'tnfsf12', 'tnfsf13', 'tnfsf13b', 'tnfsf14', 'tnfsf8', 'tnip1', 'tnn', 'tnni3', 'tnpo1', 'tnr', 'tnxb', 'tomm20', 'top1', 'top1mt', 'top2b', 'tor1aip1', 'tp53', 'tp53bp1', 'tp53i3', 'tp53inp1', 'tp73', 'tpbgl', 'tpd52l2', 'tpk1', 'tpm3', 'tpmt', 'tpp1', 'tppp2', 'tppp3', 'tpr', 'tprkb', 'tpsab1', 'tpsd1', 'tpsg1', 'tpt1', 'traf2', 'traf3', 'traf3ip2', 'trdmt1', 'treh', 'trem2', 'treml1', 'treml2', 'triap1', 'trim21', 'trim24', 'trim25', 'trim26', 'trim40', 'trim5', 'trim58', 'trpv3', 'tsc1', 'tsc22d1', 'tshb', 'tslp', 'tsnax', 'tspan1', 'tspan15', 'tspan7', 'tspan8', 'tspyl1', 'tst', 'ttf2', 'ttn', 'ttr', 'tubb3', 'twf2', 'txk', 'txlna', 'txn', 'txndc15', 'txndc5', 'txndc9', 'txnl1', 'txnrd1', 'tymp', 'tyro3', 'tyrp1', 'ubac1', 'ube2b', 'ube2l6', 'ube2z', 'ubqln3', 'ubxn1', 'ufd1', 'ugdh', 'uhrf2', 'ulbp2', 'umod', 'unc5d', 'unc79', 'ung', 'upb1', 'upk3a', 'upk3bl1', 'urod', 'uros', 'uso1', 'usp25', 'usp28', 'usp47', 'usp8', 'uxs1', 'vamp5', 'vamp8', 'vash1', 'vasn', 'vasp', 'vat1', 'vav3', 'vcam1', 'vcan', 'vcpkmt', 'vegfa', 'vegfb', 'vegfc', 'vegfd', 'vgf', 'vim', 'vipr1', 'vit', 'vmo1', 'vnn1', 'vnn2', 'vps28', 'vps37a', 'vps4b', 'vps53', 'vsig10', 'vsig10l', 'vsig2', 'vsig4', 'vsir', 'vsnl1', 'vstm1', 'vstm2b', 'vstm2l', 'vta1', 'vtcn1', 'vti1a', 'vwa1', 'vwa5a', 'vwc2', 'vwc2l', 'vwf', 'wars', 'was', 'wasf1', 'wasf3', 'washc3', 'wasl', 'wdr46', 'wfdc1', 'wfdc12', 'wfdc2', 'wfikkn1', 'wfikkn2', 'wif1', 'wnt9a', 'wwp2', 'xcl1', 'xg', 'xiap', 'xpnpep2', 'xrcc4', 'yap1', 'yars1', 'yes1', 'yju2', 'yod1', 'ythdf3', 'ywhaq', 'yy1', 'zbp1', 'zbtb16', 'zbtb17', 'zcchc8', 'zfyve19', 'zhx2', 'znf174', 'znf75d', 'znf830', 'znrd2', 'znrf4', 'zp3', 'zp4', 'zpr1', 'SLE', 'srd_SLE', 'sex', 'ethnicity', 'fp-SLE', 'alcohol_amount']\n"
     ]
    }
   ],
   "source": [
    "immune_basic = pd.read_csv(\"/Volumes/data_files/UKB_data/processed_data/immune_basic_fp.csv\")\n",
    "pro = pd.read_csv(\"/Volumes/data_files/UKB_data/processed_data/pro_sler\")\n",
    "st_features = pd.read_csv(\"/Volumes/data_files/UKB_data/processed_data/sle_student_t_features.csv\")\n",
    "immune_pro = pro.merge(immune_basic, on='eid', how='left')\n",
    "immune_pro = immune_pro.merge(st_features[['eid', 'alcohol_amount']], on='eid', how='left')\n",
    "unuse_col = ['RA', 'SS', 'Systemic Sclerosis', 'APS', 'Autoimmune thyroiditis', 'icd10_SLE_dates', 'icd10_RA_dates', 'icd10_SS_dates', 'icd10_Systemic Sclerosis_dates', 'icd10_APS_dates', 'icd10_Autoimmune thyroiditis_dates', 'srd_RA', 'srd_SS', 'srd_Systemic Sclerosis', 'srd_APS', 'srd_Autoimmune thyroiditis', 'bmi', 'date_attend', 'birth_year', 'birth_month', 'fp-len', 'fp-RA', 'fp-SS', 'fp-Systemic Sclerosis', 'fp-APS', 'fp-Autoimmune thyroiditis', 'age']\n",
    "immune_pro.drop(columns=unuse_col, inplace=True)\n",
    "print(immune_pro.columns.tolist())"
   ],
   "metadata": {
    "collapsed": false,
    "ExecuteTime": {
     "end_time": "2025-01-15T06:30:39.062313Z",
     "start_time": "2025-01-15T06:30:17.850920Z"
    }
   },
   "id": "e8ff2925ac881682"
  },
  {
   "cell_type": "code",
   "execution_count": null,
   "outputs": [],
   "source": [
    "sle_pro = immune_pro[immune_pro[\"fp-SLE\"] > 0]\n",
    "sle_pro.drop([\"srd_SLE\"], axis=1, inplace=True)\n",
    "sle_pro = sle_pro.fillna(sle_pro.median(numeric_only=True))\n",
    "\n",
    "sle_pro_5 = sle_pro[sle_pro[\"eid\"].isin(within_five_eid)]\n",
    "sle_pro_10 = sle_pro[sle_pro[\"eid\"].isin(five_ten_eid)]\n",
    "sle_pro_15 = sle_pro[sle_pro[\"eid\"].isin(ten_fifteen_eid)]\n",
    "sle_control = sle_pro[sle_pro[\"SLE\"]==0]\n",
    "print(sle_pro_5.shape,sle_pro_10.shape,sle_pro_15.shape,sle_control.shape)\n",
    "\n",
    "# sle_pro_5 = pd.concat([sle_pro_5, sle_control], ignore_index=True)\n",
    "# sle_pro_10 = pd.concat([sle_pro_10, sle_control], ignore_index=True)\n",
    "# sle_pro_15 = pd.concat([sle_pro_15, sle_control], ignore_index=True)"
   ],
   "metadata": {
    "collapsed": false
   },
   "id": "bf834b157d045c97"
  },
  {
   "cell_type": "code",
   "execution_count": 8,
   "outputs": [],
   "source": [
    "sle_pro = sle_pro[sle_pro_cox_cols]\n",
    "sle_pro_5 = sle_pro_5[sle_pro_5_cox_cols]\n",
    "sle_pro_10 = sle_pro_10[sle_pro_10_cox_cols]\n",
    "sle_pro_15 = sle_pro_15[sle_pro_15_cox_cols]"
   ],
   "metadata": {
    "collapsed": false,
    "ExecuteTime": {
     "end_time": "2025-01-15T06:30:46.181349Z",
     "start_time": "2025-01-15T06:30:46.047583Z"
    }
   },
   "id": "c8c6f51623906e8f"
  },
  {
   "cell_type": "code",
   "execution_count": 11,
   "outputs": [],
   "source": [
    "import pandas as pd\n",
    "from sklearn.linear_model import LinearRegression\n",
    "from sklearn.neighbors import NearestNeighbors\n",
    "import statsmodels.api as sm\n",
    "from scipy.cluster.hierarchy import linkage, fcluster\n",
    "from scipy.spatial.distance import pdist\n",
    "import numpy as np\n",
    "\n",
    "def analyze_protein_trajectories(data, protein_cols, covariates, case_col='SLE', time_col='fp-SLE', n_matches=10, loess_frac=0.3, n_clusters=5):\n",
    "\n",
    "    result = {}\n",
    "    corrected_data = data.copy()\n",
    "    for protein in protein_cols:\n",
    "        # print(\"protein\",protein)\n",
    "        model = LinearRegression()\n",
    "        X = data[covariates]\n",
    "        y = data[protein]\n",
    "        model.fit(X, y)\n",
    "        corrected_data[protein] = y - model.predict(X)\n",
    "    result['corrected_data'] = corrected_data\n",
    "\n",
    "    cases = corrected_data[corrected_data[case_col] == 1]\n",
    "    controls = corrected_data[corrected_data[case_col] == 0]\n",
    "    nbrs = NearestNeighbors(n_neighbors=n_matches).fit(controls[covariates])\n",
    "    distances, indices = nbrs.kneighbors(cases[covariates])\n",
    "    matched_controls = {case_idx: controls.iloc[indices[i]].index.tolist() for i, case_idx in enumerate(cases.index)}\n",
    "\n",
    "    z_scores = pd.DataFrame(index=matched_controls.keys(), columns=protein_cols)\n",
    "    for case_idx, control_indices in matched_controls.items():\n",
    "        for protein in protein_cols:\n",
    "            control_values = corrected_data.loc[control_indices, protein]\n",
    "            z = (corrected_data.loc[case_idx, protein] - control_values.mean()) / control_values.std()\n",
    "            z_scores.loc[case_idx, protein] = z\n",
    "    result['z_scores'] = z_scores\n",
    "\n",
    "    loess_results = {}\n",
    "    time_min = data[time_col].min()\n",
    "    time_max = data[time_col].max()\n",
    "\n",
    "    time_points = np.arange(time_min, time_max + 0.5, 0.5)\n",
    "    \n",
    "    for protein in protein_cols:\n",
    "        x = data.loc[z_scores.index, time_col]\n",
    "        y = z_scores[protein].dropna()\n",
    "    \n",
    "        if len(y) > 0:\n",
    "            loess = sm.nonparametric.lowess\n",
    "            fitted_values = loess(y, x, frac=loess_frac)\n",
    "\n",
    "            loess_interpolated = np.interp(time_points, fitted_values[:, 0], fitted_values[:, 1])\n",
    "            loess_results[protein] = np.column_stack((time_points, loess_interpolated))\n",
    "    \n",
    "    result['loess_results'] = loess_results\n",
    "    \n",
    "\n",
    "    loess_df = pd.DataFrame({\n",
    "        protein: res[:, 1] if res is not None else [float('nan')] * len(data[time_col])\n",
    "        for protein, res in loess_results.items()\n",
    "    }).T\n",
    "\n",
    "    loess_df = loess_df.dropna(axis=1).astype(float)\n",
    "\n",
    "    dist_matrix = pdist(loess_df, metric='euclidean')  \n",
    "    linkage_matrix = linkage(dist_matrix, method='ward')\n",
    "    cluster_labels = fcluster(linkage_matrix, t=n_clusters, criterion='maxclust')\n",
    "    result['clusters'] = {protein: cluster for protein, cluster in zip(loess_df.index, cluster_labels)}\n",
    "\n",
    "    return result"
   ],
   "metadata": {
    "collapsed": false,
    "ExecuteTime": {
     "end_time": "2025-01-15T06:31:05.274076Z",
     "start_time": "2025-01-15T06:31:05.249561Z"
    }
   },
   "id": "64a8a2d4a70917ed"
  },
  {
   "cell_type": "code",
   "execution_count": 12,
   "outputs": [],
   "source": [
    "protein_cols = [col for col in sle_pro.columns if col not in ['eid', 'SLE', 'fp-SLE', 'sex', 'ethnicity', 'alcohol_amount']]\n",
    "covariates = ['sex', 'ethnicity']\n",
    "\n",
    "result_5 = analyze_protein_trajectories(\n",
    "    data=sle_pro,\n",
    "    protein_cols=protein_cols,\n",
    "    covariates=covariates,\n",
    "    case_col='SLE',\n",
    "    time_col='fp-SLE',\n",
    "    n_matches=10,\n",
    "    loess_frac=0.3,\n",
    "    n_clusters=5\n",
    ")\n"
   ],
   "metadata": {
    "collapsed": false,
    "ExecuteTime": {
     "end_time": "2025-01-15T06:31:57.197793Z",
     "start_time": "2025-01-15T06:31:10.887231Z"
    }
   },
   "id": "158ef496948595a8"
  },
  {
   "cell_type": "code",
   "execution_count": null,
   "outputs": [],
   "source": [
    "import pandas as pd\n",
    "\n",
    "loess_results = result_5['loess_results']\n",
    "x_values = list(loess_results.values())[0][:, 0] \n",
    "df_loess = pd.DataFrame({\"x\": x_values})\n",
    "\n",
    "for protein, values in loess_results.items():\n",
    "    df_loess[protein] = values[:, 1]\n",
    "\n",
    "df_loess.to_csv(\"/Volumes/data_files/UKB_data/immune_result/loess/sle_pro_loess_results.csv\", index=False)"
   ],
   "metadata": {
    "collapsed": false
   },
   "id": "3b5149b2b417a75"
  },
  {
   "cell_type": "code",
   "execution_count": 10,
   "outputs": [],
   "source": [
    "import matplotlib.pyplot as plt\n",
    "import numpy as np\n",
    "from scipy.interpolate import UnivariateSpline\n",
    "\n",
    "moranthi_colors = [\n",
    "    '#81acd8', '#f47958', '#53c4b5', '#a891cc', '#fca55b',\n",
    "]\n",
    "\n",
    "def plot_cluster_fitting_with_moranthi_separate(result, n_clusters, time_col='fp-SLE'):\n",
    "\n",
    "    loess_results = result['loess_results']\n",
    "    clusters = result['clusters']\n",
    "\n",
    "    cluster_groups = {i: [] for i in range(1, n_clusters+1)}\n",
    "\n",
    "    for protein, cluster in clusters.items():\n",
    "        cluster_groups[cluster].append(protein)\n",
    "        \n",
    "    for cluster, proteins in cluster_groups.items():\n",
    "        plt.figure(figsize=(8, 6))\n",
    "\n",
    "        num_proteins = len(proteins)\n",
    "\n",
    "        plt.title(f'Cluster {cluster} (Proteins: {num_proteins})', fontsize=16)\n",
    "\n",
    "        all_z_scores = []\n",
    "        for protein in proteins:\n",
    "            if protein in loess_results:\n",
    "                loess_data = loess_results[protein]\n",
    "                z_scores = loess_data[:, 1] \n",
    "                all_z_scores.append(z_scores)\n",
    "\n",
    "        if all_z_scores:\n",
    "            avg_z_scores = np.mean(all_z_scores, axis=0)\n",
    "\n",
    "            for protein in proteins:\n",
    "                if protein in loess_results:\n",
    "                    loess_data = loess_results[protein]\n",
    "                    plt.plot(loess_data[:, 0], loess_data[:, 1], color=moranthi_colors[cluster-1], alpha=0.1) \n",
    "\n",
    "            loess_x = loess_data[:, 0]  \n",
    "            spline = UnivariateSpline(loess_x, avg_z_scores, s=0.5) \n",
    "            plt.plot(loess_x, spline(loess_x), label=f'Spline Fit for Cluster {cluster}', color=moranthi_colors[cluster-1], linewidth=3)\n",
    "\n",
    "        plt.gca().invert_xaxis()\n",
    "\n",
    "        plt.xlabel(\"Years before diagnosis\", fontsize=16)\n",
    "        plt.ylabel('Expression', fontsize=16)\n",
    "        plt.legend(loc='best', fontsize=10)\n",
    "\n",
    "        plt.tight_layout()\n",
    "        plt.savefig(f\"Cluster_{cluster}_protein.pdf\", format='pdf')\n",
    "        plt.close()\n",
    "\n",
    "plot_cluster_fitting_with_moranthi_separate(result_5, n_clusters=5)"
   ],
   "metadata": {
    "collapsed": false,
    "ExecuteTime": {
     "end_time": "2025-01-06T08:04:54.580241Z",
     "start_time": "2025-01-06T08:04:52.385862Z"
    }
   },
   "id": "ee7204938e85ea92"
  },
  {
   "cell_type": "code",
   "execution_count": 23,
   "outputs": [],
   "source": [
    "import matplotlib.pyplot as plt\n",
    "import seaborn as sns\n",
    "import numpy as np\n",
    "import pandas as pd  \n",
    "\n",
    "def plot_loess_heatmap(loess_results, time_col, clusters=None):\n",
    "\n",
    "    loess_df = pd.DataFrame({\n",
    "        protein: pd.Series({t: v for t, v in res})\n",
    "        for protein, res in loess_results.items()\n",
    "        if res is not None\n",
    "    }).fillna(0)\n",
    "\n",
    "    if clusters:\n",
    "        sorted_proteins = sorted(clusters.keys(), key=lambda x: clusters[x])\n",
    "        loess_df = loess_df[sorted_proteins]\n",
    "\n",
    "    plt.figure(figsize=(5, 6))  \n",
    "    sns.heatmap(\n",
    "        loess_df.T,\n",
    "        cmap=\"RdBu_r\",\n",
    "        center=0,\n",
    "        cbar_kws={'label': 'Z-score'},\n",
    "        xticklabels=np.round(loess_df.index, 1),\n",
    "        yticklabels=False,  \n",
    "        vmin=-1.5,            \n",
    "        vmax=1.5              \n",
    "    )\n",
    "    plt.xlabel('Years before diagnosis',fontsize=16)\n",
    "\n",
    "    xticks_positions = np.arange(0, len(loess_df.index), 6)  # Positions for every 6th label\n",
    "    xticks_labels = np.abs(loess_df.index[xticks_positions]).astype(int)  # Ensure positive integers without decimal points\n",
    "    plt.xticks(xticks_positions, xticks_labels, rotation=0)\n",
    "\n",
    "    plt.ylabel('Proteins',fontsize=16)\n",
    "    plt.gca().invert_xaxis()\n",
    "\n",
    "    plt.tight_layout()\n",
    "    plt.savefig(\"Protein trajectories.pdf\",format='pdf')\n",
    "    plt.close()"
   ],
   "metadata": {
    "collapsed": false,
    "ExecuteTime": {
     "end_time": "2025-01-06T08:10:33.423928Z",
     "start_time": "2025-01-06T08:10:33.231852Z"
    }
   },
   "id": "f297e96ca54ca805"
  },
  {
   "cell_type": "code",
   "execution_count": 24,
   "outputs": [],
   "source": [
    "plot_loess_heatmap(result_5['loess_results'], time_col='fp-SLE', clusters=result_5['clusters'])"
   ],
   "metadata": {
    "collapsed": false,
    "ExecuteTime": {
     "end_time": "2025-01-06T08:10:35.883225Z",
     "start_time": "2025-01-06T08:10:33.868619Z"
    }
   },
   "id": "9883b71e7ae5e352"
  },
  {
   "cell_type": "code",
   "execution_count": 25,
   "outputs": [],
   "source": [
    "def plot_selected_proteins_with_reversed_time(loess_results, selected_proteins, clusters=None, year_interval=6):\n",
    "\n",
    "    filtered_results = {protein: loess_results[protein] for protein in selected_proteins if protein in loess_results}\n",
    "\n",
    "    if not filtered_results:\n",
    "        raise ValueError(\"No valid LOESS results for the selected proteins.\")\n",
    "\n",
    "    loess_df = pd.DataFrame({\n",
    "        protein: pd.Series({-t: v for t, v in res})  \n",
    "        for protein, res in filtered_results.items()\n",
    "        if res is not None and len(res) > 0\n",
    "    }).fillna(0)\n",
    "\n",
    "    loess_df = loess_df.sort_index(ascending=True)\n",
    "\n",
    "    if loess_df.empty:\n",
    "        raise ValueError(\"LOESS results contain no valid data for plotting.\")\n",
    "\n",
    "    if clusters:\n",
    "        sorted_proteins = sorted(selected_proteins, key=lambda x: clusters.get(x, float('inf')))\n",
    "        loess_df = loess_df[sorted_proteins]\n",
    "\n",
    "    plt.figure(figsize=(5, 6))  \n",
    "    ax = sns.heatmap(\n",
    "        loess_df.T,\n",
    "        cmap=\"RdBu_r\",\n",
    "        center=0,\n",
    "        cbar_kws={'label': 'Z-score'},\n",
    "        xticklabels=False,  \n",
    "        yticklabels=loess_df.columns,\n",
    "        linecolor='black',   \n",
    "        linewidths=0.5,       \n",
    "        vmin=-1.5,            \n",
    "        vmax=1.5              \n",
    "    )\n",
    "\n",
    "    xticks_positions = list(range(0, len(loess_df.index), year_interval))\n",
    "    xticks_labels = [int(-loess_df.index[i]) for i in xticks_positions]\n",
    "    plt.xticks(ticks=xticks_positions, labels=xticks_labels)  \n",
    "\n",
    "    plt.xlabel('Years before diagnosis',fontsize=16)\n",
    "    plt.yticks(rotation=0,fontsize=12)\n",
    "    plt.tight_layout()\n",
    "    plt.savefig(\"Selected Protein trajectories.pdf\",format='pdf')"
   ],
   "metadata": {
    "collapsed": false,
    "ExecuteTime": {
     "end_time": "2025-01-06T08:10:35.884628Z",
     "start_time": "2025-01-06T08:10:35.860491Z"
    }
   },
   "id": "9aef3222f1b2663a"
  },
  {
   "cell_type": "code",
   "execution_count": 26,
   "outputs": [
    {
     "data": {
      "text/plain": "<Figure size 500x600 with 2 Axes>",
      "image/png": "[encoded data removed]"
     },
     "metadata": {},
     "output_type": "display_data"
    }
   ],
   "source": [
    "selected_proteins = ['pdcd1', 'lgals9', 'bst2', 'lag3', 'il15', 'sod2','scarb2', 'cxcl16', 'trim21', 'mepe', 'pomc']\n",
    "plot_selected_proteins_with_reversed_time(\n",
    "    loess_results=result_5['loess_results'],\n",
    "    selected_proteins=selected_proteins\n",
    ")"
   ],
   "metadata": {
    "collapsed": false,
    "ExecuteTime": {
     "end_time": "2025-01-06T08:10:36.618007Z",
     "start_time": "2025-01-06T08:10:36.262975Z"
    }
   },
   "id": "8d7661d7eced33ec"
  },
  {
   "cell_type": "code",
   "execution_count": 42,
   "outputs": [],
   "source": [
    "clusters = result_5['clusters']\n",
    "df_clusters = pd.DataFrame(list(clusters.items()), columns=['Protein', 'Cluster'])\n",
    "df_clusters.to_csv(\"Protein_cluster.csv\",index=False)"
   ],
   "metadata": {
    "collapsed": false,
    "ExecuteTime": {
     "end_time": "2024-12-22T09:07:55.696267Z",
     "start_time": "2024-12-22T09:07:55.608124Z"
    }
   },
   "id": "62249e489760aba5"
  }
 ],
 "metadata": {
  "kernelspec": {
   "display_name": "Python 3",
   "language": "python",
   "name": "python3"
  },
  "language_info": {
   "codemirror_mode": {
    "name": "ipython",
    "version": 2
   },
   "file_extension": ".py",
   "mimetype": "text/x-python",
   "name": "python",
   "nbconvert_exporter": "python",
   "pygments_lexer": "ipython2",
   "version": "2.7.6"
  }
 },
 "nbformat": 4,
 "nbformat_minor": 5
}

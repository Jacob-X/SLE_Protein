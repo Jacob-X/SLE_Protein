{
 "cells": [
  {
   "cell_type": "code",
   "execution_count": 3,
   "id": "initial_id",
   "metadata": {
    "collapsed": true,
    "ExecuteTime": {
     "end_time": "2025-01-15T06:30:15.998627Z",
     "start_time": "2025-01-15T06:30:15.941479Z"
    }
   },
   "outputs": [],
   "source": [
    "import pandas as pd\n"
   ]
  },
  {
   "cell_type": "code",
   "execution_count": 4,
   "outputs": [],
   "source": [
    "sle_pro_cox = pd.read_csv(\"/Volumes/data_files/UKB_data/immune_result/cox3/sle_pro_cox.csv\")\n",
    "sle_pro_5_cox = pd.read_csv(\"/Volumes/data_files/UKB_data/immune_result/cox3/sle_pro_5_cox.csv\")\n",
    "sle_pro_10_cox = pd.read_csv(\"/Volumes/data_files/UKB_data/immune_result/cox3/sle_pro_10_cox.csv\")\n",
    "sle_pro_15_cox = pd.read_csv(\"/Volumes/data_files/UKB_data/immune_result/cox3/sle_pro_15_cox.csv\")\n",
    "\n",
    "sle_pro_cox = sle_pro_cox[sle_pro_cox['Bonferroni']<0.05]\n",
    "sle_pro_5_cox = sle_pro_5_cox[sle_pro_5_cox['Bonferroni']<0.05]\n",
    "sle_pro_10_cox = sle_pro_10_cox[sle_pro_10_cox['Bonferroni']<0.05]\n",
    "sle_pro_15_cox = sle_pro_15_cox[sle_pro_15_cox['Bonferroni']<0.05]\n",
    "\n",
    "sle_pro_cox_cols = sle_pro_cox[\"Feature\"].tolist()\n",
    "sle_pro_cox_cols = sle_pro_cox_cols + [\"SLE\", \"fp-SLE\",'sex', 'ethnicity', 'alcohol_amount']\n",
    "sle_pro_5_cox_cols = sle_pro_5_cox[\"Feature\"].tolist()\n",
    "sle_pro_5_cox_cols = sle_pro_5_cox_cols + [\"SLE\", \"fp-SLE\",'sex', 'ethnicity', 'alcohol_amount']\n",
    "sle_pro_10_cox_cols = sle_pro_10_cox[\"Feature\"].tolist()\n",
    "sle_pro_10_cox_cols = sle_pro_10_cox_cols + [\"SLE\", \"fp-SLE\",'sex', 'ethnicity', 'alcohol_amount']\n",
    "sle_pro_15_cox_cols = sle_pro_15_cox[\"Feature\"].tolist()\n",
    "sle_pro_15_cox_cols = sle_pro_15_cox_cols + [\"SLE\", \"fp-SLE\",'sex', 'ethnicity', 'alcohol_amount']\n"
   ],
   "metadata": {
    "collapsed": false,
    "ExecuteTime": {
     "end_time": "2025-01-15T06:30:16.442300Z",
     "start_time": "2025-01-15T06:30:16.392781Z"
    }
   },
   "id": "c904cc12b89e1b51"
  },
  {
   "cell_type": "code",
   "execution_count": 5,
   "outputs": [],
   "source": [
    "time_group = pd.read_csv(\"/Volumes/data_files/UKB_data/processed_data/sle_group.csv\")\n",
    "\n",
    "within_five = time_group[time_group[\"Group\"]==\"0-5\"]\n",
    "within_five_eid = within_five[\"eid\"].tolist()\n",
    "\n",
    "five_ten = time_group[time_group[\"Group\"]==\"5-10\"]\n",
    "five_ten_eid = five_ten[\"eid\"].tolist()\n",
    "\n",
    "ten_fifteen = time_group[time_group[\"Group\"]==\"10-15\"]\n",
    "ten_fifteen_eid = ten_fifteen[\"eid\"].tolist()"
   ],
   "metadata": {
    "collapsed": false,
    "ExecuteTime": {
     "end_time": "2025-01-15T06:30:17.148144Z",
     "start_time": "2025-01-15T06:30:17.128383Z"
    }
   },
   "id": "a993cc975254fc5f"
  },
  {
   "cell_type": "code",
   "execution_count": null,
   "outputs": [],
   "source": [
    "immune_basic = pd.read_csv(\"/Volumes/data_files/UKB_data/processed_data/immune_basic_fp.csv\")\n",
    "pro = pd.read_csv(\"/Volumes/data_files/UKB_data/processed_data/pro_sler\")\n",
    "st_features = pd.read_csv(\"/Volumes/data_files/UKB_data/processed_data/sle_student_t_features.csv\")\n",
    "immune_pro = pro.merge(immune_basic, on='eid', how='left')\n",
    "immune_pro = immune_pro.merge(st_features[['eid', 'alcohol_amount']], on='eid', how='left')\n",
    "unuse_col = ['RA', 'SS', 'Systemic Sclerosis', 'APS', 'Autoimmune thyroiditis', 'icd10_SLE_dates', 'icd10_RA_dates', 'icd10_SS_dates', 'icd10_Systemic Sclerosis_dates', 'icd10_APS_dates', 'icd10_Autoimmune thyroiditis_dates', 'srd_RA', 'srd_SS', 'srd_Systemic Sclerosis', 'srd_APS', 'srd_Autoimmune thyroiditis', 'bmi', 'date_attend', 'birth_year', 'birth_month', 'fp-len', 'fp-RA', 'fp-SS', 'fp-Systemic Sclerosis', 'fp-APS', 'fp-Autoimmune thyroiditis', 'age']\n",
    "immune_pro.drop(columns=unuse_col, inplace=True)\n",
    "print(immune_pro.columns.tolist())"
   ],
   "metadata": {
    "collapsed": false
   },
   "id": "e8ff2925ac881682"
  },
  {
   "cell_type": "code",
   "execution_count": null,
   "outputs": [],
   "source": [
    "sle_pro = immune_pro[immune_pro[\"fp-SLE\"] > 0]\n",
    "sle_pro.drop([\"srd_SLE\"], axis=1, inplace=True)\n",
    "sle_pro = sle_pro.fillna(sle_pro.median(numeric_only=True))\n",
    "\n",
    "sle_pro_5 = sle_pro[sle_pro[\"eid\"].isin(within_five_eid)]\n",
    "sle_pro_10 = sle_pro[sle_pro[\"eid\"].isin(five_ten_eid)]\n",
    "sle_pro_15 = sle_pro[sle_pro[\"eid\"].isin(ten_fifteen_eid)]\n",
    "sle_control = sle_pro[sle_pro[\"SLE\"]==0]\n",
    "print(sle_pro_5.shape,sle_pro_10.shape,sle_pro_15.shape,sle_control.shape)\n",
    "\n",
    "# sle_pro_5 = pd.concat([sle_pro_5, sle_control], ignore_index=True)\n",
    "# sle_pro_10 = pd.concat([sle_pro_10, sle_control], ignore_index=True)\n",
    "# sle_pro_15 = pd.concat([sle_pro_15, sle_control], ignore_index=True)"
   ],
   "metadata": {
    "collapsed": false
   },
   "id": "bf834b157d045c97"
  },
  {
   "cell_type": "code",
   "execution_count": 8,
   "outputs": [],
   "source": [
    "sle_pro = sle_pro[sle_pro_cox_cols]\n",
    "sle_pro_5 = sle_pro_5[sle_pro_5_cox_cols]\n",
    "sle_pro_10 = sle_pro_10[sle_pro_10_cox_cols]\n",
    "sle_pro_15 = sle_pro_15[sle_pro_15_cox_cols]"
   ],
   "metadata": {
    "collapsed": false,
    "ExecuteTime": {
     "end_time": "2025-01-15T06:30:46.181349Z",
     "start_time": "2025-01-15T06:30:46.047583Z"
    }
   },
   "id": "c8c6f51623906e8f"
  },
  {
   "cell_type": "code",
   "execution_count": 11,
   "outputs": [],
   "source": [
    "import pandas as pd\n",
    "from sklearn.linear_model import LinearRegression\n",
    "from sklearn.neighbors import NearestNeighbors\n",
    "import statsmodels.api as sm\n",
    "from scipy.cluster.hierarchy import linkage, fcluster\n",
    "from scipy.spatial.distance import pdist\n",
    "import numpy as np\n",
    "\n",
    "def analyze_protein_trajectories(data, protein_cols, covariates, case_col='SLE', time_col='fp-SLE', n_matches=10, loess_frac=0.3, n_clusters=5):\n",
    "\n",
    "    result = {}\n",
    "    corrected_data = data.copy()\n",
    "    for protein in protein_cols:\n",
    "        # print(\"protein\",protein)\n",
    "        model = LinearRegression()\n",
    "        X = data[covariates]\n",
    "        y = data[protein]\n",
    "        model.fit(X, y)\n",
    "        corrected_data[protein] = y - model.predict(X)\n",
    "    result['corrected_data'] = corrected_data\n",
    "\n",
    "    cases = corrected_data[corrected_data[case_col] == 1]\n",
    "    controls = corrected_data[corrected_data[case_col] == 0]\n",
    "    nbrs = NearestNeighbors(n_neighbors=n_matches).fit(controls[covariates])\n",
    "    distances, indices = nbrs.kneighbors(cases[covariates])\n",
    "    matched_controls = {case_idx: controls.iloc[indices[i]].index.tolist() for i, case_idx in enumerate(cases.index)}\n",
    "\n",
    "    z_scores = pd.DataFrame(index=matched_controls.keys(), columns=protein_cols)\n",
    "    for case_idx, control_indices in matched_controls.items():\n",
    "        for protein in protein_cols:\n",
    "            control_values = corrected_data.loc[control_indices, protein]\n",
    "            z = (corrected_data.loc[case_idx, protein] - control_values.mean()) / control_values.std()\n",
    "            z_scores.loc[case_idx, protein] = z\n",
    "    result['z_scores'] = z_scores\n",
    "\n",
    "    loess_results = {}\n",
    "    time_min = data[time_col].min()\n",
    "    time_max = data[time_col].max()\n",
    "\n",
    "    time_points = np.arange(time_min, time_max + 0.5, 0.5)\n",
    "    \n",
    "    for protein in protein_cols:\n",
    "        x = data.loc[z_scores.index, time_col]\n",
    "        y = z_scores[protein].dropna()\n",
    "    \n",
    "        if len(y) > 0:\n",
    "            loess = sm.nonparametric.lowess\n",
    "            fitted_values = loess(y, x, frac=loess_frac)\n",
    "\n",
    "            loess_interpolated = np.interp(time_points, fitted_values[:, 0], fitted_values[:, 1])\n",
    "            loess_results[protein] = np.column_stack((time_points, loess_interpolated))\n",
    "    \n",
    "    result['loess_results'] = loess_results\n",
    "    \n",
    "\n",
    "    loess_df = pd.DataFrame({\n",
    "        protein: res[:, 1] if res is not None else [float('nan')] * len(data[time_col])\n",
    "        for protein, res in loess_results.items()\n",
    "    }).T\n",
    "\n",
    "    loess_df = loess_df.dropna(axis=1).astype(float)\n",
    "\n",
    "    dist_matrix = pdist(loess_df, metric='euclidean')  \n",
    "    linkage_matrix = linkage(dist_matrix, method='ward')\n",
    "    cluster_labels = fcluster(linkage_matrix, t=n_clusters, criterion='maxclust')\n",
    "    result['clusters'] = {protein: cluster for protein, cluster in zip(loess_df.index, cluster_labels)}\n",
    "\n",
    "    return result"
   ],
   "metadata": {
    "collapsed": false,
    "ExecuteTime": {
     "end_time": "2025-01-15T06:31:05.274076Z",
     "start_time": "2025-01-15T06:31:05.249561Z"
    }
   },
   "id": "64a8a2d4a70917ed"
  },
  {
   "cell_type": "code",
   "execution_count": 12,
   "outputs": [],
   "source": [
    "protein_cols = [col for col in sle_pro.columns if col not in ['eid', 'SLE', 'fp-SLE', 'sex', 'ethnicity', 'alcohol_amount']]\n",
    "covariates = ['sex', 'ethnicity']\n",
    "\n",
    "result_5 = analyze_protein_trajectories(\n",
    "    data=sle_pro,\n",
    "    protein_cols=protein_cols,\n",
    "    covariates=covariates,\n",
    "    case_col='SLE',\n",
    "    time_col='fp-SLE',\n",
    "    n_matches=10,\n",
    "    loess_frac=0.3,\n",
    "    n_clusters=5\n",
    ")\n"
   ],
   "metadata": {
    "collapsed": false,
    "ExecuteTime": {
     "end_time": "2025-01-15T06:31:57.197793Z",
     "start_time": "2025-01-15T06:31:10.887231Z"
    }
   },
   "id": "158ef496948595a8"
  },
  {
   "cell_type": "code",
   "execution_count": null,
   "outputs": [],
   "source": [
    "import pandas as pd\n",
    "\n",
    "loess_results = result_5['loess_results']\n",
    "x_values = list(loess_results.values())[0][:, 0] \n",
    "df_loess = pd.DataFrame({\"x\": x_values})\n",
    "\n",
    "for protein, values in loess_results.items():\n",
    "    df_loess[protein] = values[:, 1]\n",
    "\n",
    "df_loess.to_csv(\"/Volumes/data_files/UKB_data/immune_result/loess/sle_pro_loess_results.csv\", index=False)"
   ],
   "metadata": {
    "collapsed": false
   },
   "id": "3b5149b2b417a75"
  },
  {
   "cell_type": "code",
   "execution_count": 10,
   "outputs": [],
   "source": [
    "import matplotlib.pyplot as plt\n",
    "import numpy as np\n",
    "from scipy.interpolate import UnivariateSpline\n",
    "\n",
    "moranthi_colors = [\n",
    "    '#81acd8', '#f47958', '#53c4b5', '#a891cc', '#fca55b',\n",
    "]\n",
    "\n",
    "def plot_cluster_fitting_with_moranthi_separate(result, n_clusters, time_col='fp-SLE'):\n",
    "\n",
    "    loess_results = result['loess_results']\n",
    "    clusters = result['clusters']\n",
    "\n",
    "    cluster_groups = {i: [] for i in range(1, n_clusters+1)}\n",
    "\n",
    "    for protein, cluster in clusters.items():\n",
    "        cluster_groups[cluster].append(protein)\n",
    "        \n",
    "    for cluster, proteins in cluster_groups.items():\n",
    "        plt.figure(figsize=(8, 6))\n",
    "\n",
    "        num_proteins = len(proteins)\n",
    "\n",
    "        plt.title(f'Cluster {cluster} (Proteins: {num_proteins})', fontsize=16)\n",
    "\n",
    "        all_z_scores = []\n",
    "        for protein in proteins:\n",
    "            if protein in loess_results:\n",
    "                loess_data = loess_results[protein]\n",
    "                z_scores = loess_data[:, 1] \n",
    "                all_z_scores.append(z_scores)\n",
    "\n",
    "        if all_z_scores:\n",
    "            avg_z_scores = np.mean(all_z_scores, axis=0)\n",
    "\n",
    "            for protein in proteins:\n",
    "                if protein in loess_results:\n",
    "                    loess_data = loess_results[protein]\n",
    "                    plt.plot(loess_data[:, 0], loess_data[:, 1], color=moranthi_colors[cluster-1], alpha=0.1) \n",
    "\n",
    "            loess_x = loess_data[:, 0]  \n",
    "            spline = UnivariateSpline(loess_x, avg_z_scores, s=0.5) \n",
    "            plt.plot(loess_x, spline(loess_x), label=f'Spline Fit for Cluster {cluster}', color=moranthi_colors[cluster-1], linewidth=3)\n",
    "\n",
    "        plt.gca().invert_xaxis()\n",
    "\n",
    "        plt.xlabel(\"Years before diagnosis\", fontsize=16)\n",
    "        plt.ylabel('Expression', fontsize=16)\n",
    "        plt.legend(loc='best', fontsize=10)\n",
    "\n",
    "        plt.tight_layout()\n",
    "        plt.savefig(f\"Cluster_{cluster}_protein.pdf\", format='pdf')\n",
    "        plt.close()\n",
    "\n",
    "plot_cluster_fitting_with_moranthi_separate(result_5, n_clusters=5)"
   ],
   "metadata": {
    "collapsed": false,
    "ExecuteTime": {
     "end_time": "2025-01-06T08:04:54.580241Z",
     "start_time": "2025-01-06T08:04:52.385862Z"
    }
   },
   "id": "ee7204938e85ea92"
  },
  {
   "cell_type": "code",
   "execution_count": 23,
   "outputs": [],
   "source": [
    "import matplotlib.pyplot as plt\n",
    "import seaborn as sns\n",
    "import numpy as np\n",
    "import pandas as pd  \n",
    "\n",
    "def plot_loess_heatmap(loess_results, time_col, clusters=None):\n",
    "\n",
    "    loess_df = pd.DataFrame({\n",
    "        protein: pd.Series({t: v for t, v in res})\n",
    "        for protein, res in loess_results.items()\n",
    "        if res is not None\n",
    "    }).fillna(0)\n",
    "\n",
    "    if clusters:\n",
    "        sorted_proteins = sorted(clusters.keys(), key=lambda x: clusters[x])\n",
    "        loess_df = loess_df[sorted_proteins]\n",
    "\n",
    "    plt.figure(figsize=(5, 6))  \n",
    "    sns.heatmap(\n",
    "        loess_df.T,\n",
    "        cmap=\"RdBu_r\",\n",
    "        center=0,\n",
    "        cbar_kws={'label': 'Z-score'},\n",
    "        xticklabels=np.round(loess_df.index, 1),\n",
    "        yticklabels=False,  \n",
    "        vmin=-1.5,            \n",
    "        vmax=1.5              \n",
    "    )\n",
    "    plt.xlabel('Years before diagnosis',fontsize=16)\n",
    "\n",
    "    xticks_positions = np.arange(0, len(loess_df.index), 6)  # Positions for every 6th label\n",
    "    xticks_labels = np.abs(loess_df.index[xticks_positions]).astype(int)  # Ensure positive integers without decimal points\n",
    "    plt.xticks(xticks_positions, xticks_labels, rotation=0)\n",
    "\n",
    "    plt.ylabel('Proteins',fontsize=16)\n",
    "    plt.gca().invert_xaxis()\n",
    "\n",
    "    plt.tight_layout()\n",
    "    plt.savefig(\"Protein trajectories.pdf\",format='pdf')\n",
    "    plt.close()"
   ],
   "metadata": {
    "collapsed": false,
    "ExecuteTime": {
     "end_time": "2025-01-06T08:10:33.423928Z",
     "start_time": "2025-01-06T08:10:33.231852Z"
    }
   },
   "id": "f297e96ca54ca805"
  },
  {
   "cell_type": "code",
   "execution_count": 24,
   "outputs": [],
   "source": [
    "plot_loess_heatmap(result_5['loess_results'], time_col='fp-SLE', clusters=result_5['clusters'])"
   ],
   "metadata": {
    "collapsed": false,
    "ExecuteTime": {
     "end_time": "2025-01-06T08:10:35.883225Z",
     "start_time": "2025-01-06T08:10:33.868619Z"
    }
   },
   "id": "9883b71e7ae5e352"
  },
  {
   "cell_type": "code",
   "execution_count": 25,
   "outputs": [],
   "source": [
    "def plot_selected_proteins_with_reversed_time(loess_results, selected_proteins, clusters=None, year_interval=6):\n",
    "\n",
    "    filtered_results = {protein: loess_results[protein] for protein in selected_proteins if protein in loess_results}\n",
    "\n",
    "    if not filtered_results:\n",
    "        raise ValueError(\"No valid LOESS results for the selected proteins.\")\n",
    "\n",
    "    loess_df = pd.DataFrame({\n",
    "        protein: pd.Series({-t: v for t, v in res})  \n",
    "        for protein, res in filtered_results.items()\n",
    "        if res is not None and len(res) > 0\n",
    "    }).fillna(0)\n",
    "\n",
    "    loess_df = loess_df.sort_index(ascending=True)\n",
    "\n",
    "    if loess_df.empty:\n",
    "        raise ValueError(\"LOESS results contain no valid data for plotting.\")\n",
    "\n",
    "    if clusters:\n",
    "        sorted_proteins = sorted(selected_proteins, key=lambda x: clusters.get(x, float('inf')))\n",
    "        loess_df = loess_df[sorted_proteins]\n",
    "\n",
    "    plt.figure(figsize=(5, 6))  \n",
    "    ax = sns.heatmap(\n",
    "        loess_df.T,\n",
    "        cmap=\"RdBu_r\",\n",
    "        center=0,\n",
    "        cbar_kws={'label': 'Z-score'},\n",
    "        xticklabels=False,  \n",
    "        yticklabels=loess_df.columns,\n",
    "        linecolor='black',   \n",
    "        linewidths=0.5,       \n",
    "        vmin=-1.5,            \n",
    "        vmax=1.5              \n",
    "    )\n",
    "\n",
    "    xticks_positions = list(range(0, len(loess_df.index), year_interval))\n",
    "    xticks_labels = [int(-loess_df.index[i]) for i in xticks_positions]\n",
    "    plt.xticks(ticks=xticks_positions, labels=xticks_labels)  \n",
    "\n",
    "    plt.xlabel('Years before diagnosis',fontsize=16)\n",
    "    plt.yticks(rotation=0,fontsize=12)\n",
    "    plt.tight_layout()\n",
    "    plt.savefig(\"Selected Protein trajectories.pdf\",format='pdf')"
   ],
   "metadata": {
    "collapsed": false,
    "ExecuteTime": {
     "end_time": "2025-01-06T08:10:35.884628Z",
     "start_time": "2025-01-06T08:10:35.860491Z"
    }
   },
   "id": "9aef3222f1b2663a"
  },
  {
   "cell_type": "code",
   "execution_count": 26,
   "outputs": [
    {
     "data": {
      "text/plain": "<Figure size 500x600 with 2 Axes>",
      "image/png": "[encoded data removed]"
     },
     "metadata": {},
     "output_type": "display_data"
    }
   ],
   "source": [
    "selected_proteins = ['pdcd1', 'lgals9', 'bst2', 'lag3', 'il15', 'sod2','scarb2', 'cxcl16', 'trim21', 'mepe', 'pomc']\n",
    "plot_selected_proteins_with_reversed_time(\n",
    "    loess_results=result_5['loess_results'],\n",
    "    selected_proteins=selected_proteins\n",
    ")"
   ],
   "metadata": {
    "collapsed": false,
    "ExecuteTime": {
     "end_time": "2025-01-06T08:10:36.618007Z",
     "start_time": "2025-01-06T08:10:36.262975Z"
    }
   },
   "id": "8d7661d7eced33ec"
  },
  {
   "cell_type": "code",
   "execution_count": 42,
   "outputs": [],
   "source": [
    "clusters = result_5['clusters']\n",
    "df_clusters = pd.DataFrame(list(clusters.items()), columns=['Protein', 'Cluster'])\n",
    "df_clusters.to_csv(\"Protein_cluster.csv\",index=False)"
   ],
   "metadata": {
    "collapsed": false,
    "ExecuteTime": {
     "end_time": "2024-12-22T09:07:55.696267Z",
     "start_time": "2024-12-22T09:07:55.608124Z"
    }
   },
   "id": "62249e489760aba5"
  }
 ],
 "metadata": {
  "kernelspec": {
   "display_name": "Python 3",
   "language": "python",
   "name": "python3"
  },
  "language_info": {
   "codemirror_mode": {
    "name": "ipython",
    "version": 2
   },
   "file_extension": ".py",
   "mimetype": "text/x-python",
   "name": "python",
   "nbconvert_exporter": "python",
   "pygments_lexer": "ipython2",
   "version": "2.7.6"
  }
 },
 "nbformat": 4,
 "nbformat_minor": 5
}

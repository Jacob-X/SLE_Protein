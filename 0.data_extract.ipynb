{
 "cells": [
  {
   "cell_type": "markdown",
   "source": [
    "# icd10 寻找SLE的患者，然后比对到蛋白质数据上"
   ],
   "metadata": {
    "collapsed": false
   },
   "id": "d6dbe17c4805eed2"
  },
  {
   "cell_type": "code",
   "execution_count": null,
   "outputs": [],
   "source": [
    "import pandas as pd\n",
    "\n",
    "icd10 = pd.read_csv('/Volumes/data_files/UKB_data/raw_data/icd10.tab', sep='\\t')\n",
    "proteomic = pd.read_csv('/Volumes/data_files/UKB_data/raw_data/olink.tsv', sep='\\t')\n",
    "\n",
    "# 添加新列 SLE，处理非字符串和 NaN 情况 Systemic lupus erythematosus\n",
    "icd10['SLE'] = icd10['p41270'].apply(\n",
    "    lambda x: 1 if isinstance(x, str) and any(code.startswith('M32') for code in x.split('|')) else 0)\n",
    "# 添加新列 RA，针对 M05 和 M06, M05 为类风湿性关节炎，M06 为其他特指的风湿病 Rheumatoid arthritis \n",
    "icd10['RA'] = icd10['p41270'].apply(\n",
    "    lambda x: 1 if isinstance(x, str) and any(code.startswith(('M05', 'M06')) for code in x.split('|')) else 0)\n",
    "# 干燥综合征（Sjogren's Syndrome）：M35.0\n",
    "icd10['SS'] = icd10['p41270'].apply(\n",
    "    lambda x: 1 if isinstance(x, str) and any(code.startswith(('M35')) for code in x.split('|')) else 0)\n",
    "# 系统性硬化症（Systemic Sclerosis）：M34\n",
    "icd10['Systemic Sclerosis'] = icd10['p41270'].apply(\n",
    "    lambda x: 1 if isinstance(x, str) and any(code.startswith(('M34')) for code in x.split('|')) else 0)\n",
    "# 抗磷脂综合征（antiphospholipid syndrome，APS， D686\n",
    "icd10['APS'] = icd10['p41270'].apply(\n",
    "    lambda x: 1 if isinstance(x, str) and any(code.startswith(('D686')) for code in x.split('|')) else 0)\n",
    "# E063 Autoimmune thyroiditis 甲状腺自身免疫病\n",
    "icd10['Autoimmune thyroiditis'] = icd10['p41270'].apply(\n",
    "    lambda x: 1 if isinstance(x, str) and any(code.startswith(('E063')) for code in x.split('|')) else 0)\n",
    "\n",
    "slers = icd10[icd10['SLE'] == 1]\n",
    "raers = icd10[icd10['RA'] == 1]\n",
    "ssers = icd10[icd10['SS'] == 1]\n",
    "Systemic_Sclerosis_er = icd10[icd10['Systemic Sclerosis'] == 1]\n",
    "APS_er = icd10[icd10['APS'] == 1]\n",
    "Autoimmune_thyroiditis_er = icd10[icd10['Autoimmune thyroiditis'] == 1]\n",
    "\n",
    "proteomic['SLE'] = proteomic['eid'].apply(lambda x: 1 if x in slers['eid'].values else 0)\n",
    "proteomic['RA'] = proteomic['eid'].apply(lambda x: 1 if x in raers['eid'].values else 0)\n",
    "proteomic['SS'] = proteomic['eid'].apply(lambda x: 1 if x in ssers['eid'].values else 0)\n",
    "proteomic['Systemic Sclerosis'] = proteomic['eid'].apply(lambda x: 1 if x in Systemic_Sclerosis_er['eid'].values else 0)\n",
    "proteomic['APS'] = proteomic['eid'].apply(lambda x: 1 if x in APS_er['eid'].values else 0)\n",
    "proteomic['Autoimmune thyroiditis'] = proteomic['eid'].apply(\n",
    "    lambda x: 1 if x in Autoimmune_thyroiditis_er['eid'].values else 0)\n",
    "\n",
    "proteomic.to_csv(\"/Volumes/data_files/UKB_data/processed_data/pro_sler\", index=False)"
   ],
   "metadata": {
    "collapsed": false
   },
   "id": "ebc62018e2217e22"
  },
  {
   "cell_type": "code",
   "execution_count": 11,
   "outputs": [
    {
     "data": {
      "text/plain": "           eid    a1bg    aamdc   aarsd1    abca2  abhd14b    abl1     abo  \\\n45     1021071 -0.1414 -0.52745  0.06600 -0.09420 -0.38320 -1.0009 -0.1367   \n158    1075188 -0.1046 -0.65155 -1.43235 -0.08540 -0.40140 -0.6964 -2.0383   \n198    1097706 -0.0796  0.79315      NaN -0.26305  0.83300     NaN -1.9894   \n205    1099743  0.1981 -0.22985 -0.82860  0.27225  0.54620 -0.0889  2.8415   \n312    1159180  0.0521      NaN  0.54400 -0.09200  0.15410 -0.2625  0.7587   \n...        ...     ...      ...      ...      ...      ...     ...     ...   \n52648  5840912 -0.0162  0.15445 -0.11095  0.04710 -0.00125 -0.6368  1.6961   \n52698  5860742  0.1770  0.28905  0.05360  0.14385 -0.03370  0.0805 -3.1873   \n52769  5893538  0.0406 -0.37105  0.05375  0.07650 -0.09920 -1.1005  0.3782   \n52790  5902203 -0.0131 -0.15125 -0.32330  0.18055  0.00000  0.3543 -1.8423   \n52914  5973824 -0.0170 -1.25535 -0.19820  0.39335 -0.71550 -0.8737  0.3876   \n\n       abraxas2    acaa1  ...   znrf4     zp3     zp4    zpr1  SLE  RA  SS  \\\n45      -0.6064 -1.14930  ... -0.2405  0.2267 -0.1333 -0.3513    1   0   1   \n158     -0.2779 -0.00900  ... -0.1697 -0.7525  0.0609  0.1540    1   0   0   \n198      0.7588  1.32910  ...  0.6039  0.3533 -0.3082 -0.0954    1   0   0   \n205      1.1232 -0.51940  ...     NaN  0.5345     NaN  0.3562    1   1   1   \n312      0.8438  0.09690  ...  0.2569     NaN -0.2296 -0.2191    1   0   1   \n...         ...      ...  ...     ...     ...     ...     ...  ...  ..  ..   \n52648    0.3157 -0.84125  ...  0.3290  2.1844  0.9185  0.6255    1   1   0   \n52698   -0.2775  0.72470  ... -0.3364 -4.6763 -0.2716 -0.0382    1   0   0   \n52769   -0.3292 -1.20030  ... -0.5340  0.1885  0.0683  1.1436    1   0   0   \n52790    0.4049  0.79300  ...  0.9529 -0.6149  0.3848  1.1333    1   0   0   \n52914   -0.6273 -1.46240  ... -0.6272 -0.0269 -0.1565  1.9177    1   0   0   \n\n       Systemic Sclerosis  APS  Autoimmune thyroiditis  \n45                      0    0                       0  \n158                     0    0                       0  \n198                     0    1                       0  \n205                     0    0                       0  \n312                     1    0                       0  \n...                   ...  ...                     ...  \n52648                   0    0                       0  \n52698                   0    0                       0  \n52769                   0    0                       0  \n52790                   0    0                       0  \n52914                   0    1                       0  \n\n[541 rows x 2930 columns]",
      "text/html": "<div>\n<style scoped>\n    .dataframe tbody tr th:only-of-type {\n        vertical-align: middle;\n    }\n\n    .dataframe tbody tr th {\n        vertical-align: top;\n    }\n\n    .dataframe thead th {\n        text-align: right;\n    }\n</style>\n<table border=\"1\" class=\"dataframe\">\n  <thead>\n    <tr style=\"text-align: right;\">\n      <th></th>\n      <th>eid</th>\n      <th>a1bg</th>\n      <th>aamdc</th>\n      <th>aarsd1</th>\n      <th>abca2</th>\n      <th>abhd14b</th>\n      <th>abl1</th>\n      <th>abo</th>\n      <th>abraxas2</th>\n      <th>acaa1</th>\n      <th>...</th>\n      <th>znrf4</th>\n      <th>zp3</th>\n      <th>zp4</th>\n      <th>zpr1</th>\n      <th>SLE</th>\n      <th>RA</th>\n      <th>SS</th>\n      <th>Systemic Sclerosis</th>\n      <th>APS</th>\n      <th>Autoimmune thyroiditis</th>\n    </tr>\n  </thead>\n  <tbody>\n    <tr>\n      <th>45</th>\n      <td>1021071</td>\n      <td>-0.1414</td>\n      <td>-0.52745</td>\n      <td>0.06600</td>\n      <td>-0.09420</td>\n      <td>-0.38320</td>\n      <td>-1.0009</td>\n      <td>-0.1367</td>\n      <td>-0.6064</td>\n      <td>-1.14930</td>\n      <td>...</td>\n      <td>-0.2405</td>\n      <td>0.2267</td>\n      <td>-0.1333</td>\n      <td>-0.3513</td>\n      <td>1</td>\n      <td>0</td>\n      <td>1</td>\n      <td>0</td>\n      <td>0</td>\n      <td>0</td>\n    </tr>\n    <tr>\n      <th>158</th>\n      <td>1075188</td>\n      <td>-0.1046</td>\n      <td>-0.65155</td>\n      <td>-1.43235</td>\n      <td>-0.08540</td>\n      <td>-0.40140</td>\n      <td>-0.6964</td>\n      <td>-2.0383</td>\n      <td>-0.2779</td>\n      <td>-0.00900</td>\n      <td>...</td>\n      <td>-0.1697</td>\n      <td>-0.7525</td>\n      <td>0.0609</td>\n      <td>0.1540</td>\n      <td>1</td>\n      <td>0</td>\n      <td>0</td>\n      <td>0</td>\n      <td>0</td>\n      <td>0</td>\n    </tr>\n    <tr>\n      <th>198</th>\n      <td>1097706</td>\n      <td>-0.0796</td>\n      <td>0.79315</td>\n      <td>NaN</td>\n      <td>-0.26305</td>\n      <td>0.83300</td>\n      <td>NaN</td>\n      <td>-1.9894</td>\n      <td>0.7588</td>\n      <td>1.32910</td>\n      <td>...</td>\n      <td>0.6039</td>\n      <td>0.3533</td>\n      <td>-0.3082</td>\n      <td>-0.0954</td>\n      <td>1</td>\n      <td>0</td>\n      <td>0</td>\n      <td>0</td>\n      <td>1</td>\n      <td>0</td>\n    </tr>\n    <tr>\n      <th>205</th>\n      <td>1099743</td>\n      <td>0.1981</td>\n      <td>-0.22985</td>\n      <td>-0.82860</td>\n      <td>0.27225</td>\n      <td>0.54620</td>\n      <td>-0.0889</td>\n      <td>2.8415</td>\n      <td>1.1232</td>\n      <td>-0.51940</td>\n      <td>...</td>\n      <td>NaN</td>\n      <td>0.5345</td>\n      <td>NaN</td>\n      <td>0.3562</td>\n      <td>1</td>\n      <td>1</td>\n      <td>1</td>\n      <td>0</td>\n      <td>0</td>\n      <td>0</td>\n    </tr>\n    <tr>\n      <th>312</th>\n      <td>1159180</td>\n      <td>0.0521</td>\n      <td>NaN</td>\n      <td>0.54400</td>\n      <td>-0.09200</td>\n      <td>0.15410</td>\n      <td>-0.2625</td>\n      <td>0.7587</td>\n      <td>0.8438</td>\n      <td>0.09690</td>\n      <td>...</td>\n      <td>0.2569</td>\n      <td>NaN</td>\n      <td>-0.2296</td>\n      <td>-0.2191</td>\n      <td>1</td>\n      <td>0</td>\n      <td>1</td>\n      <td>1</td>\n      <td>0</td>\n      <td>0</td>\n    </tr>\n    <tr>\n      <th>...</th>\n      <td>...</td>\n      <td>...</td>\n      <td>...</td>\n      <td>...</td>\n      <td>...</td>\n      <td>...</td>\n      <td>...</td>\n      <td>...</td>\n      <td>...</td>\n      <td>...</td>\n      <td>...</td>\n      <td>...</td>\n      <td>...</td>\n      <td>...</td>\n      <td>...</td>\n      <td>...</td>\n      <td>...</td>\n      <td>...</td>\n      <td>...</td>\n      <td>...</td>\n      <td>...</td>\n    </tr>\n    <tr>\n      <th>52648</th>\n      <td>5840912</td>\n      <td>-0.0162</td>\n      <td>0.15445</td>\n      <td>-0.11095</td>\n      <td>0.04710</td>\n      <td>-0.00125</td>\n      <td>-0.6368</td>\n      <td>1.6961</td>\n      <td>0.3157</td>\n      <td>-0.84125</td>\n      <td>...</td>\n      <td>0.3290</td>\n      <td>2.1844</td>\n      <td>0.9185</td>\n      <td>0.6255</td>\n      <td>1</td>\n      <td>1</td>\n      <td>0</td>\n      <td>0</td>\n      <td>0</td>\n      <td>0</td>\n    </tr>\n    <tr>\n      <th>52698</th>\n      <td>5860742</td>\n      <td>0.1770</td>\n      <td>0.28905</td>\n      <td>0.05360</td>\n      <td>0.14385</td>\n      <td>-0.03370</td>\n      <td>0.0805</td>\n      <td>-3.1873</td>\n      <td>-0.2775</td>\n      <td>0.72470</td>\n      <td>...</td>\n      <td>-0.3364</td>\n      <td>-4.6763</td>\n      <td>-0.2716</td>\n      <td>-0.0382</td>\n      <td>1</td>\n      <td>0</td>\n      <td>0</td>\n      <td>0</td>\n      <td>0</td>\n      <td>0</td>\n    </tr>\n    <tr>\n      <th>52769</th>\n      <td>5893538</td>\n      <td>0.0406</td>\n      <td>-0.37105</td>\n      <td>0.05375</td>\n      <td>0.07650</td>\n      <td>-0.09920</td>\n      <td>-1.1005</td>\n      <td>0.3782</td>\n      <td>-0.3292</td>\n      <td>-1.20030</td>\n      <td>...</td>\n      <td>-0.5340</td>\n      <td>0.1885</td>\n      <td>0.0683</td>\n      <td>1.1436</td>\n      <td>1</td>\n      <td>0</td>\n      <td>0</td>\n      <td>0</td>\n      <td>0</td>\n      <td>0</td>\n    </tr>\n    <tr>\n      <th>52790</th>\n      <td>5902203</td>\n      <td>-0.0131</td>\n      <td>-0.15125</td>\n      <td>-0.32330</td>\n      <td>0.18055</td>\n      <td>0.00000</td>\n      <td>0.3543</td>\n      <td>-1.8423</td>\n      <td>0.4049</td>\n      <td>0.79300</td>\n      <td>...</td>\n      <td>0.9529</td>\n      <td>-0.6149</td>\n      <td>0.3848</td>\n      <td>1.1333</td>\n      <td>1</td>\n      <td>0</td>\n      <td>0</td>\n      <td>0</td>\n      <td>0</td>\n      <td>0</td>\n    </tr>\n    <tr>\n      <th>52914</th>\n      <td>5973824</td>\n      <td>-0.0170</td>\n      <td>-1.25535</td>\n      <td>-0.19820</td>\n      <td>0.39335</td>\n      <td>-0.71550</td>\n      <td>-0.8737</td>\n      <td>0.3876</td>\n      <td>-0.6273</td>\n      <td>-1.46240</td>\n      <td>...</td>\n      <td>-0.6272</td>\n      <td>-0.0269</td>\n      <td>-0.1565</td>\n      <td>1.9177</td>\n      <td>1</td>\n      <td>0</td>\n      <td>0</td>\n      <td>0</td>\n      <td>1</td>\n      <td>0</td>\n    </tr>\n  </tbody>\n</table>\n<p>541 rows × 2930 columns</p>\n</div>"
     },
     "execution_count": 11,
     "metadata": {},
     "output_type": "execute_result"
    }
   ],
   "source": [
    "# icd10 确诊SLE，有蛋白质数据的共541人\n",
    "proteomic = pd.read_csv(\"/Volumes/data_files/UKB_data/processed_data/pro_sler\")\n",
    "sle_all = proteomic[proteomic['SLE']==1]\n",
    "sle_all"
   ],
   "metadata": {
    "collapsed": false,
    "ExecuteTime": {
     "end_time": "2025-02-21T07:51:49.344656Z",
     "start_time": "2025-02-21T07:51:32.008989Z"
    }
   },
   "id": "38ab4cc8d07d37cd"
  },
  {
   "cell_type": "markdown",
   "source": [
    "# Self-reported 数据获取"
   ],
   "metadata": {
    "collapsed": false
   },
   "id": "66b7050a60f4d283"
  },
  {
   "cell_type": "code",
   "execution_count": null,
   "outputs": [],
   "source": [
    "# \"SLE\":\"1381\"\n",
    "# 全部UKB 50W人群中有 self reported SLE的人数 351\n",
    "\n",
    "import numpy as np\n",
    "pro = pd.read_csv(\"/Volumes/data_files/UKB_data/processed_data/pro_sler\")\n",
    "\n",
    "srd_date = pd.read_csv(\"/Volumes/data_files/UKB_data/raw_data/srdTime.tab\",sep='\\t')\n",
    "srd_date = srd_date[srd_date['eid'].isin(pro['eid'])]\n",
    "\n",
    "srd = pd.read_csv(\"/Volumes/data_files/UKB_data/raw_data/srd.tab\",sep='\\t')\n",
    "srd = srd[srd['eid'].isin(pro['eid'])]\n",
    "\n",
    "def find_columns_with_1464(row, code):\n",
    "    relevant_columns = []\n",
    "    for col in row.index:\n",
    "        if row[col] == float(code):\n",
    "            # 提取列名的特定部分，例如 \"i0_a0\" 从 \"p20002_i0_a0\" 中提取\n",
    "            relevant_columns.append(\"_\".join(col.split(\"_\")[1:]))\n",
    "    return relevant_columns\n",
    "\n",
    "srd_disease_code = {\"RA\":\"1464\",\"SLE\":\"1381\",\"SS\":\"1382\",\"Systemic Sclerosis\":\"1384\",\"APS\":\"1564\",\"Autoimmune thyroiditis\":\"1428\"}\n",
    "\n",
    "disease_column = pro.columns[-6:]\n",
    "for disease in srd_disease_code.keys():\n",
    "    srd[disease] = srd.apply(find_columns_with_1464, axis=1,args=(srd_disease_code[disease],))\n",
    "\n",
    "\n",
    "immune_srd = srd[['eid','RA', 'SLE', 'SS', 'Systemic Sclerosis', 'APS', 'Autoimmune thyroiditis']]\n",
    "# 把[]去掉\n",
    "for disease in srd_disease_code.keys():\n",
    "    immune_srd[disease] = immune_srd[disease].apply(lambda x: x[0] if len(x) > 0 else np.nan)\n",
    "immune_srd.to_csv(\"/Volumes/data_files/UKB_data/processed_data/immune_srd.csv\",index=False)\n"
   ],
   "metadata": {
    "collapsed": false
   },
   "id": "b38e2aeaf0023d1"
  },
  {
   "cell_type": "code",
   "execution_count": 12,
   "outputs": [
    {
     "data": {
      "text/plain": "           eid     RA    SLE     SS Systemic Sclerosis  APS  \\\n35     1712779  i0_a2  i0_a6  i0_a1                NaN  NaN   \n240    5702638    NaN  i0_a5    NaN                NaN  NaN   \n261    5948965    NaN  i0_a1    NaN                NaN  NaN   \n341    2173891    NaN  i0_a0    NaN                NaN  NaN   \n530    5947167    NaN  i0_a1    NaN                NaN  NaN   \n...        ...    ...    ...    ...                ...  ...   \n52547  3046806    NaN  i0_a1    NaN                NaN  NaN   \n52597  4985642    NaN  i0_a2    NaN                NaN  NaN   \n52663  1358711    NaN  i0_a0    NaN                NaN  NaN   \n52747  1314680  i0_a5  i0_a3    NaN                NaN  NaN   \n52866  5902203    NaN  i0_a2    NaN                NaN  NaN   \n\n      Autoimmune thyroiditis  \n35                       NaN  \n240                      NaN  \n261                      NaN  \n341                      NaN  \n530                      NaN  \n...                      ...  \n52547                    NaN  \n52597                    NaN  \n52663                    NaN  \n52747                    NaN  \n52866                    NaN  \n\n[351 rows x 7 columns]",
      "text/html": "<div>\n<style scoped>\n    .dataframe tbody tr th:only-of-type {\n        vertical-align: middle;\n    }\n\n    .dataframe tbody tr th {\n        vertical-align: top;\n    }\n\n    .dataframe thead th {\n        text-align: right;\n    }\n</style>\n<table border=\"1\" class=\"dataframe\">\n  <thead>\n    <tr style=\"text-align: right;\">\n      <th></th>\n      <th>eid</th>\n      <th>RA</th>\n      <th>SLE</th>\n      <th>SS</th>\n      <th>Systemic Sclerosis</th>\n      <th>APS</th>\n      <th>Autoimmune thyroiditis</th>\n    </tr>\n  </thead>\n  <tbody>\n    <tr>\n      <th>35</th>\n      <td>1712779</td>\n      <td>i0_a2</td>\n      <td>i0_a6</td>\n      <td>i0_a1</td>\n      <td>NaN</td>\n      <td>NaN</td>\n      <td>NaN</td>\n    </tr>\n    <tr>\n      <th>240</th>\n      <td>5702638</td>\n      <td>NaN</td>\n      <td>i0_a5</td>\n      <td>NaN</td>\n      <td>NaN</td>\n      <td>NaN</td>\n      <td>NaN</td>\n    </tr>\n    <tr>\n      <th>261</th>\n      <td>5948965</td>\n      <td>NaN</td>\n      <td>i0_a1</td>\n      <td>NaN</td>\n      <td>NaN</td>\n      <td>NaN</td>\n      <td>NaN</td>\n    </tr>\n    <tr>\n      <th>341</th>\n      <td>2173891</td>\n      <td>NaN</td>\n      <td>i0_a0</td>\n      <td>NaN</td>\n      <td>NaN</td>\n      <td>NaN</td>\n      <td>NaN</td>\n    </tr>\n    <tr>\n      <th>530</th>\n      <td>5947167</td>\n      <td>NaN</td>\n      <td>i0_a1</td>\n      <td>NaN</td>\n      <td>NaN</td>\n      <td>NaN</td>\n      <td>NaN</td>\n    </tr>\n    <tr>\n      <th>...</th>\n      <td>...</td>\n      <td>...</td>\n      <td>...</td>\n      <td>...</td>\n      <td>...</td>\n      <td>...</td>\n      <td>...</td>\n    </tr>\n    <tr>\n      <th>52547</th>\n      <td>3046806</td>\n      <td>NaN</td>\n      <td>i0_a1</td>\n      <td>NaN</td>\n      <td>NaN</td>\n      <td>NaN</td>\n      <td>NaN</td>\n    </tr>\n    <tr>\n      <th>52597</th>\n      <td>4985642</td>\n      <td>NaN</td>\n      <td>i0_a2</td>\n      <td>NaN</td>\n      <td>NaN</td>\n      <td>NaN</td>\n      <td>NaN</td>\n    </tr>\n    <tr>\n      <th>52663</th>\n      <td>1358711</td>\n      <td>NaN</td>\n      <td>i0_a0</td>\n      <td>NaN</td>\n      <td>NaN</td>\n      <td>NaN</td>\n      <td>NaN</td>\n    </tr>\n    <tr>\n      <th>52747</th>\n      <td>1314680</td>\n      <td>i0_a5</td>\n      <td>i0_a3</td>\n      <td>NaN</td>\n      <td>NaN</td>\n      <td>NaN</td>\n      <td>NaN</td>\n    </tr>\n    <tr>\n      <th>52866</th>\n      <td>5902203</td>\n      <td>NaN</td>\n      <td>i0_a2</td>\n      <td>NaN</td>\n      <td>NaN</td>\n      <td>NaN</td>\n      <td>NaN</td>\n    </tr>\n  </tbody>\n</table>\n<p>351 rows × 7 columns</p>\n</div>"
     },
     "execution_count": 12,
     "metadata": {},
     "output_type": "execute_result"
    }
   ],
   "source": [
    "immune_srd = pd.read_csv(\"/Volumes/data_files/UKB_data/processed_data/immune_srd.csv\")\n",
    "sle_srd = immune_srd[immune_srd['SLE'].notnull()]\n",
    "sle_srd"
   ],
   "metadata": {
    "collapsed": false,
    "ExecuteTime": {
     "end_time": "2025-02-21T07:56:44.629952Z",
     "start_time": "2025-02-21T07:56:44.598115Z"
    }
   },
   "id": "aec378ab45f979ee"
  },
  {
   "cell_type": "markdown",
   "source": [
    "# ICD10 SLE 时间数据获取"
   ],
   "metadata": {
    "collapsed": false
   },
   "id": "808abf31df5403a7"
  },
  {
   "cell_type": "code",
   "execution_count": null,
   "outputs": [],
   "source": [
    "import warnings\n",
    "import pandas as pd\n",
    "warnings.filterwarnings('ignore')\n",
    "\n",
    "pro = pd.read_csv(\"/Volumes/data_files/UKB_data/processed_data/pro_sler\")\n",
    "pro = pro.fillna(pro.median(numeric_only=True))\n",
    "\n",
    "dates = pd.read_csv(\"/Volumes/data_files/UKB_data/raw_data/icd10Date.tab\",sep='\\t')\n",
    "icd10 = pd.read_csv(\"/Volumes/data_files/UKB_data/raw_data/icd10.tab\",sep='\\t')\n",
    "# 将 'p41270' 按 '|' 分割成列表\n",
    "code_icd10 = icd10[icd10['eid'].isin(pro['eid'])]\n",
    "code_icd10['p41270'] = code_icd10['p41270'].fillna('').astype(str)\n",
    "code_icd10['icd10_list'] = code_icd10['p41270'].str.split('|')\n",
    "\n",
    "disease_code = {\"RA\":\"M05|M06\", \"SLE\":\"M32\",\"SS\":\"M35\",\"Systemic Sclerosis\":\"M34\",\n",
    "                \"APS\":\"D686\",\"Autoimmune thyroiditis\":\"E063\"}\n",
    "\n",
    "disease_column = pro.columns[-6:]\n",
    "\n",
    "for disease in disease_column:\n",
    "    codes = disease_code.get(disease).split('|')\n",
    "    code_name = disease + \"_icd10_index\"\n",
    "    print(\"code: \",codes,\"code name: \",code_name)\n",
    "    code_icd10[code_name] = code_icd10['icd10_list'].apply(\n",
    "        lambda x: [i for i, icd_code in enumerate(x) if any(icd_code.startswith(code) for code in codes)]\n",
    "    )\n",
    "    \n",
    "def extract_dates(row, date_df,col_name):\n",
    "    indices = row[col_name]\n",
    "    eid = row['eid']\n",
    "    date_row = date_df[date_df['eid'] == eid].iloc[0]  # 找到匹配的 eid 行\n",
    "    dates = {f'p41280_a{idx}': date_row[f'p41280_a{idx}'] for idx in indices if f'p41280_a{idx}' in date_row}\n",
    "    return dates\n",
    "\n",
    "for disease in disease_column:\n",
    "    code_name = disease + \"_icd10_index\"\n",
    "    date_name = disease + \"_dates\"\n",
    "    code_icd10[date_name] = code_icd10.apply(lambda row: extract_dates(row, dates, code_name), axis=1)\n",
    "\n",
    "# 提取最早日期的函数\n",
    "def find_earliest_date(dates_dict):\n",
    "    if not dates_dict:  # 如果字典为空\n",
    "        return None\n",
    "    return min(dates_dict.values())  # 找到最早的日期\n",
    "\n",
    "for disease in disease_column:\n",
    "    date_name = disease + \"_dates\"\n",
    "    code_icd10[f'earliest_{date_name}'] = code_icd10[date_name].apply(find_earliest_date)\n",
    "\n",
    "immune_icd10_date = code_icd10[['eid','earliest_SLE_dates', 'earliest_RA_dates', 'earliest_SS_dates', 'earliest_Systemic Sclerosis_dates', 'earliest_APS_dates', 'earliest_Autoimmune thyroiditis_dates']]\n",
    "immune_icd10_date.to_csv(\"/Volumes/data_files/UKB_data/processed_data/immune_icd10_date.csv\",index=False)\n"
   ],
   "metadata": {
    "collapsed": false
   },
   "id": "341d3df80c327ca0"
  },
  {
   "cell_type": "code",
   "execution_count": 13,
   "outputs": [
    {
     "data": {
      "text/plain": "           eid earliest_SLE_dates\n35     1712779         2006-10-06\n81     5000606         2003-09-06\n159    3305003         1997-07-03\n240    5702638         2013-05-01\n261    5948965         2003-12-03\n...        ...                ...\n52747  1314680         2000-11-28\n52773  3711114         2008-02-04\n52820  4579293         2006-08-09\n52866  5902203         2002-08-04\n52941  3983002         2011-12-12\n\n[541 rows x 2 columns]",
      "text/html": "<div>\n<style scoped>\n    .dataframe tbody tr th:only-of-type {\n        vertical-align: middle;\n    }\n\n    .dataframe tbody tr th {\n        vertical-align: top;\n    }\n\n    .dataframe thead th {\n        text-align: right;\n    }\n</style>\n<table border=\"1\" class=\"dataframe\">\n  <thead>\n    <tr style=\"text-align: right;\">\n      <th></th>\n      <th>eid</th>\n      <th>earliest_SLE_dates</th>\n    </tr>\n  </thead>\n  <tbody>\n    <tr>\n      <th>35</th>\n      <td>1712779</td>\n      <td>2006-10-06</td>\n    </tr>\n    <tr>\n      <th>81</th>\n      <td>5000606</td>\n      <td>2003-09-06</td>\n    </tr>\n    <tr>\n      <th>159</th>\n      <td>3305003</td>\n      <td>1997-07-03</td>\n    </tr>\n    <tr>\n      <th>240</th>\n      <td>5702638</td>\n      <td>2013-05-01</td>\n    </tr>\n    <tr>\n      <th>261</th>\n      <td>5948965</td>\n      <td>2003-12-03</td>\n    </tr>\n    <tr>\n      <th>...</th>\n      <td>...</td>\n      <td>...</td>\n    </tr>\n    <tr>\n      <th>52747</th>\n      <td>1314680</td>\n      <td>2000-11-28</td>\n    </tr>\n    <tr>\n      <th>52773</th>\n      <td>3711114</td>\n      <td>2008-02-04</td>\n    </tr>\n    <tr>\n      <th>52820</th>\n      <td>4579293</td>\n      <td>2006-08-09</td>\n    </tr>\n    <tr>\n      <th>52866</th>\n      <td>5902203</td>\n      <td>2002-08-04</td>\n    </tr>\n    <tr>\n      <th>52941</th>\n      <td>3983002</td>\n      <td>2011-12-12</td>\n    </tr>\n  </tbody>\n</table>\n<p>541 rows × 2 columns</p>\n</div>"
     },
     "execution_count": 13,
     "metadata": {},
     "output_type": "execute_result"
    }
   ],
   "source": [
    "immune_icd10_date = pd.read_csv(\"/Volumes/data_files/UKB_data/processed_data/immune_icd10_date.csv\")\n",
    "immune_icd10_date = immune_icd10_date[immune_icd10_date['earliest_SLE_dates'].notnull()]\n",
    "sle_date_eid = immune_icd10_date[['eid', 'earliest_SLE_dates']]\n",
    "sle_date_eid"
   ],
   "metadata": {
    "collapsed": false,
    "ExecuteTime": {
     "end_time": "2025-02-21T08:02:26.894314Z",
     "start_time": "2025-02-21T08:02:26.854519Z"
    }
   },
   "id": "7c4797a57c09dd00"
  },
  {
   "cell_type": "markdown",
   "source": [
    "# 将上面的数据整合成一个"
   ],
   "metadata": {
    "collapsed": false
   },
   "id": "cca3205ba6f0d04a"
  },
  {
   "cell_type": "code",
   "execution_count": null,
   "outputs": [],
   "source": [
    "import pandas as pd\n",
    "\n",
    "immune_icd10_date = pd.read_csv(\"/Volumes/data_files/UKB_data/processed_data/immune_icd10_date.csv\")\n",
    "immune_srd = pd.read_csv(\"/Volumes/data_files/UKB_data/processed_data/immune_srd.csv\")\n",
    "# 这个b_cols数据就是R语言处理的数据，黄老师那个初步处理过的Rdata，我转化成csv格式，在python中处理\n",
    "b_cols = pd.read_csv(\"/Volumes/data_files/UKB_data/all_with_colnames.csv\")\n",
    "b_cols = b_cols[b_cols[\"eid\"].isin(immune_icd10_date[\"eid\"])]\n",
    "select_b_col = b_cols[['eid','sex','ethnicity','bmi', 'date_attend', 'birth_year', 'birth_month']]\n",
    "immune_basic = (\n",
    "    immune_icd10_date\n",
    "    .merge(immune_srd, on=\"eid\", how=\"outer\")\n",
    "    .merge(select_b_col, on=\"eid\", how=\"outer\")\n",
    ")\n",
    "immune_basic.columns =[['eid', 'icd10_SLE_dates', 'icd10_RA_dates', 'icd10_SS_dates', 'icd10_Systemic Sclerosis_dates', 'icd10_APS_dates', 'icd10_Autoimmune thyroiditis_dates', 'srd_RA', 'srd_SLE', 'srd_SS', 'srd_Systemic Sclerosis', 'srd_APS', 'srd_Autoimmune thyroiditis', 'sex', 'ethnicity', 'bmi', 'date_attend', 'birth_year', 'birth_month']]\n",
    "immune_basic.to_csv(\"/Volumes/data_files/UKB_data/processed_data/immune_basic.csv\", index=False)"
   ],
   "metadata": {
    "collapsed": false
   },
   "id": "20f58d5d5f6e328"
  },
  {
   "cell_type": "code",
   "execution_count": 16,
   "outputs": [
    {
     "data": {
      "text/plain": "           eid icd10_SLE_dates srd_SLE  sex  ethnicity      bmi date_attend  \\\n0      1000044             NaN     NaN  1.0     1001.0  30.3114  2009-11-16   \n1      1000102             NaN     NaN  0.0     1001.0  25.6596  2009-12-11   \n2      1000228             NaN     NaN  0.0     1001.0  23.3401  2009-10-27   \n3      1000333             NaN     NaN  0.0     1001.0  22.6304  2009-04-24   \n4      1000405             NaN     NaN  0.0     1001.0  23.9512  2008-09-18   \n...        ...             ...     ...  ...        ...      ...         ...   \n53008  6024526             NaN     NaN  1.0     4002.0  21.0925  2009-01-21   \n53009  6024720             NaN     NaN  1.0     1001.0  28.3124  2009-07-13   \n53010  6024802             NaN     NaN  1.0     1003.0  22.8571  2009-06-19   \n53011  6024868             NaN     NaN  1.0     1001.0  28.2167  2009-07-20   \n53012  6024877             NaN     NaN  1.0     1003.0  29.9441  2008-03-13   \n\n       birth_year  birth_month  \n0          1957.0          8.0  \n1          1944.0         12.0  \n2          1950.0          8.0  \n3          1955.0          9.0  \n4          1941.0          7.0  \n...           ...          ...  \n53008      1966.0          4.0  \n53009      1946.0          5.0  \n53010      1939.0          8.0  \n53011      1961.0         10.0  \n53012      1963.0          3.0  \n\n[53013 rows x 9 columns]",
      "text/html": "<div>\n<style scoped>\n    .dataframe tbody tr th:only-of-type {\n        vertical-align: middle;\n    }\n\n    .dataframe tbody tr th {\n        vertical-align: top;\n    }\n\n    .dataframe thead th {\n        text-align: right;\n    }\n</style>\n<table border=\"1\" class=\"dataframe\">\n  <thead>\n    <tr style=\"text-align: right;\">\n      <th></th>\n      <th>eid</th>\n      <th>icd10_SLE_dates</th>\n      <th>srd_SLE</th>\n      <th>sex</th>\n      <th>ethnicity</th>\n      <th>bmi</th>\n      <th>date_attend</th>\n      <th>birth_year</th>\n      <th>birth_month</th>\n    </tr>\n  </thead>\n  <tbody>\n    <tr>\n      <th>0</th>\n      <td>1000044</td>\n      <td>NaN</td>\n      <td>NaN</td>\n      <td>1.0</td>\n      <td>1001.0</td>\n      <td>30.3114</td>\n      <td>2009-11-16</td>\n      <td>1957.0</td>\n      <td>8.0</td>\n    </tr>\n    <tr>\n      <th>1</th>\n      <td>1000102</td>\n      <td>NaN</td>\n      <td>NaN</td>\n      <td>0.0</td>\n      <td>1001.0</td>\n      <td>25.6596</td>\n      <td>2009-12-11</td>\n      <td>1944.0</td>\n      <td>12.0</td>\n    </tr>\n    <tr>\n      <th>2</th>\n      <td>1000228</td>\n      <td>NaN</td>\n      <td>NaN</td>\n      <td>0.0</td>\n      <td>1001.0</td>\n      <td>23.3401</td>\n      <td>2009-10-27</td>\n      <td>1950.0</td>\n      <td>8.0</td>\n    </tr>\n    <tr>\n      <th>3</th>\n      <td>1000333</td>\n      <td>NaN</td>\n      <td>NaN</td>\n      <td>0.0</td>\n      <td>1001.0</td>\n      <td>22.6304</td>\n      <td>2009-04-24</td>\n      <td>1955.0</td>\n      <td>9.0</td>\n    </tr>\n    <tr>\n      <th>4</th>\n      <td>1000405</td>\n      <td>NaN</td>\n      <td>NaN</td>\n      <td>0.0</td>\n      <td>1001.0</td>\n      <td>23.9512</td>\n      <td>2008-09-18</td>\n      <td>1941.0</td>\n      <td>7.0</td>\n    </tr>\n    <tr>\n      <th>...</th>\n      <td>...</td>\n      <td>...</td>\n      <td>...</td>\n      <td>...</td>\n      <td>...</td>\n      <td>...</td>\n      <td>...</td>\n      <td>...</td>\n      <td>...</td>\n    </tr>\n    <tr>\n      <th>53008</th>\n      <td>6024526</td>\n      <td>NaN</td>\n      <td>NaN</td>\n      <td>1.0</td>\n      <td>4002.0</td>\n      <td>21.0925</td>\n      <td>2009-01-21</td>\n      <td>1966.0</td>\n      <td>4.0</td>\n    </tr>\n    <tr>\n      <th>53009</th>\n      <td>6024720</td>\n      <td>NaN</td>\n      <td>NaN</td>\n      <td>1.0</td>\n      <td>1001.0</td>\n      <td>28.3124</td>\n      <td>2009-07-13</td>\n      <td>1946.0</td>\n      <td>5.0</td>\n    </tr>\n    <tr>\n      <th>53010</th>\n      <td>6024802</td>\n      <td>NaN</td>\n      <td>NaN</td>\n      <td>1.0</td>\n      <td>1003.0</td>\n      <td>22.8571</td>\n      <td>2009-06-19</td>\n      <td>1939.0</td>\n      <td>8.0</td>\n    </tr>\n    <tr>\n      <th>53011</th>\n      <td>6024868</td>\n      <td>NaN</td>\n      <td>NaN</td>\n      <td>1.0</td>\n      <td>1001.0</td>\n      <td>28.2167</td>\n      <td>2009-07-20</td>\n      <td>1961.0</td>\n      <td>10.0</td>\n    </tr>\n    <tr>\n      <th>53012</th>\n      <td>6024877</td>\n      <td>NaN</td>\n      <td>NaN</td>\n      <td>1.0</td>\n      <td>1003.0</td>\n      <td>29.9441</td>\n      <td>2008-03-13</td>\n      <td>1963.0</td>\n      <td>3.0</td>\n    </tr>\n  </tbody>\n</table>\n<p>53013 rows × 9 columns</p>\n</div>"
     },
     "execution_count": 16,
     "metadata": {},
     "output_type": "execute_result"
    }
   ],
   "source": [
    "immune_basic = pd.read_csv(\"/Volumes/data_files/UKB_data/processed_data/immune_basic.csv\")\n",
    "immune_basic = immune_basic[[\"eid\",\"icd10_SLE_dates\",\"srd_SLE\",'sex', 'ethnicity', 'bmi', 'date_attend', 'birth_year', 'birth_month']]\n",
    "immune_basic"
   ],
   "metadata": {
    "collapsed": false,
    "ExecuteTime": {
     "end_time": "2025-02-21T08:10:37.628028Z",
     "start_time": "2025-02-21T08:10:37.535463Z"
    }
   },
   "id": "44465ea62eacf9ed"
  },
  {
   "cell_type": "markdown",
   "source": [
    "# 随访时间计算"
   ],
   "metadata": {
    "collapsed": false
   },
   "id": "16f3077fef6cf7bb"
  },
  {
   "cell_type": "code",
   "execution_count": null,
   "outputs": [],
   "source": [
    "import pandas as pd\n",
    "import numpy as np\n",
    "\n",
    "immune = pd.read_csv(\"/Volumes/data_files/UKB_data/processed_data/immune_basic.csv\")\n",
    "sease = ['SLE','RA','SS', 'Systemic Sclerosis', 'APS', 'Autoimmune thyroiditis']\n",
    "disease_date = ['icd10_SLE_dates', 'icd10_RA_dates', 'icd10_SS_dates', 'icd10_Systemic Sclerosis_dates', 'icd10_APS_dates', 'icd10_Autoimmune thyroiditis_dates']\n",
    "\n",
    "# # 使用immune_basic['date_attend'] - 各个疾病的disease_date，形成新的disease-follow-up列\n",
    "immune['date_attend'] = pd.to_datetime(immune['date_attend'], errors='coerce')\n",
    "immune[\"fp-len\"] = (pd.to_datetime(\"2023-10\") - immune['date_attend']).dt.days / 365.25\n",
    "\n",
    "for d_date in disease_date:\n",
    "    immune[d_date] = pd.to_datetime(immune[d_date], errors='coerce')\n",
    "\n",
    "for d, d_date in zip(disease, disease_date):\n",
    "    immune[f\"fp-{d}\"] = immune.apply(\n",
    "        lambda row: (row[d_date] - row['date_attend']).days / 365.25 if pd.notnull(row[d_date]) else None,\n",
    "        axis=1\n",
    "    )\n",
    "\n",
    "# 遍历 disease 和 disease_date\n",
    "for d, d_date in zip(disease, disease_date):\n",
    "    column_name = f\"fp-{d}\"\n",
    "\n",
    "    # 检查列是否存在，如果不存在则创建一个空列\n",
    "    if column_name not in immune.columns:\n",
    "        immune[column_name] = None  # 或者 np.nan\n",
    "\n",
    "    # 如果列值为 NaN，则用 fp-len 的值填充\n",
    "    immune.loc[immune[column_name].isna(), column_name] = immune.loc[immune[column_name].isna(), \"fp-len\"]\n",
    "\n",
    "immune['age'] = (immune['date_attend'].dt.year - immune['birth_year']) - \\\n",
    "                ((immune['date_attend'].dt.month < immune['birth_month']).astype(int))\n",
    "\n",
    "immune.to_csv(\"/Volumes/data_files/UKB_data/processed_data/immune_basic_fp.csv\", index=False)"
   ],
   "metadata": {
    "collapsed": false
   },
   "id": "70f69e20f4eb77e1"
  },
  {
   "cell_type": "code",
   "execution_count": 23,
   "outputs": [
    {
     "name": "stdout",
     "output_type": "stream",
     "text": [
      "SLE 文章中的case+control人数： 52747\n"
     ]
    }
   ],
   "source": [
    "immune = pd.read_csv(\"/Volumes/data_files/UKB_data/processed_data/immune_basic_fp.csv\")\n",
    "immune = immune[['eid','fp-len','fp-SLE']]\n",
    "sle_fp_eid = immune[immune['fp-SLE']>0]['eid']\n",
    "print(\"SLE 文章中的case+control人数：\",len(sle_fp_eid))\n"
   ],
   "metadata": {
    "collapsed": false,
    "ExecuteTime": {
     "end_time": "2025-02-21T08:29:57.551751Z",
     "start_time": "2025-02-21T08:29:57.414702Z"
    }
   },
   "id": "95ea6cc50466de77"
  },
  {
   "cell_type": "code",
   "execution_count": 24,
   "outputs": [
    {
     "name": "stderr",
     "output_type": "stream",
     "text": [
      "/var/folders/sy/n_c36kvx487143mhq4gvc7b40000gn/T/ipykernel_9753/1115681402.py:2: DtypeWarning: Columns (1,2,3,4,5,6,7,8,9,10,11,12) have mixed types. Specify dtype option on import or set low_memory=False.\n",
      "  pro = pd.read_csv(\"/Volumes/data_files/UKB_data/processed_data/immune_pro.csv\")\n"
     ]
    },
    {
     "name": "stdout",
     "output_type": "stream",
     "text": [
      "sle_patient num 541\n",
      "sle_srd num 351\n"
     ]
    }
   ],
   "source": [
    "# 将蛋白质数据+icd10数据+Self-reported数据+随访时间数据全部整合得到一个文件 immune_pro.csv\n",
    "immune_basic = pd.read_csv(\"/Volumes/data_files/UKB_data/processed_data/immune_basic_fp.csv\")\n",
    "pro = pd.read_csv(\"/Volumes/data_files/UKB_data/processed_data/pro_sler\")\n",
    "immune_pro = pro.merge(immune_basic, on='eid', how='left')\n",
    "\n",
    "pro = pd.read_csv(\"/Volumes/data_files/UKB_data/processed_data/immune_pro.csv\")\n",
    "pro = pro.fillna(pro.median(numeric_only=True))\n",
    "sle_patient = pro[pro['SLE'] == 1]\n",
    "sle_patient_eid = sle_patient['eid']\n",
    "sle_srd_eid = sle_srd['eid']\n",
    "\n",
    "print(\"sle_patient num\",len(sle_patient_eid))\n",
    "print(\"sle_srd num\",len(sle_srd_eid))"
   ],
   "metadata": {
    "collapsed": false,
    "ExecuteTime": {
     "end_time": "2025-02-21T08:35:51.482470Z",
     "start_time": "2025-02-21T08:35:28.526250Z"
    }
   },
   "id": "4f588ab164669313"
  },
  {
   "cell_type": "code",
   "execution_count": 26,
   "outputs": [
    {
     "name": "stdout",
     "output_type": "stream",
     "text": [
      "sle case+control num 52747\n",
      "sle case num 275\n",
      "sle control num 52472\n"
     ]
    }
   ],
   "source": [
    "pro = pro[pro['fp-SLE']>0]\n",
    "sle_case = pro[pro['SLE'] == 1]\n",
    "sle_control = pro[pro['SLE'] == 0]\n",
    "print(\"sle case+control num\",len(pro['eid']))\n",
    "print(\"sle case num\",len(sle_case))\n",
    "print(\"sle control num\",len(sle_control))\n"
   ],
   "metadata": {
    "collapsed": false,
    "ExecuteTime": {
     "end_time": "2025-02-21T08:37:39.771666Z",
     "start_time": "2025-02-21T08:37:37.201374Z"
    }
   },
   "id": "ae90e18cc9294037"
  }
 ],
 "metadata": {
  "kernelspec": {
   "display_name": "Python 3",
   "language": "python",
   "name": "python3"
  },
  "language_info": {
   "codemirror_mode": {
    "name": "ipython",
    "version": 2
   },
   "file_extension": ".py",
   "mimetype": "text/x-python",
   "name": "python",
   "nbconvert_exporter": "python",
   "pygments_lexer": "ipython2",
   "version": "2.7.6"
  }
 },
 "nbformat": 4,
 "nbformat_minor": 5
}

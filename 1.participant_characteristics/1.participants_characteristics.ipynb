{
 "cells": [
  {
   "cell_type": "code",
   "execution_count": null,
   "id": "initial_id",
   "metadata": {
    "collapsed": true
   },
   "outputs": [],
   "source": [
    "import pandas as pd\n",
    "\n",
    "immune_pro = pd.read_csv(\"/Volumes/data_files/UKB_data/processed_data/immune_pro.csv\")\n",
    "b_cols = pd.read_csv(\"/Volumes/data_files/UKB_data/all_with_colnames.csv\")\n",
    "\n",
    "b_cols = b_cols[b_cols[\"eid\"].isin(immune_pro[\"eid\"])]\n",
    "print(b_cols.columns.tolist())\n",
    "select_b_col = b_cols[['eid','sex','bmi','smoke_ever','smoke_status','alcohol_status','alcohol_amount']]\n"
   ]
  },
  {
   "cell_type": "code",
   "execution_count": null,
   "outputs": [],
   "source": [
    "sle_pro = immune_pro[['eid','age','ethnicity',\"fp-SLE\",'SLE']]\n",
    "sle_pro = pd.merge(sle_pro, select_b_col, on='eid', how='inner')\n",
    "sle_pro = sle_pro[['eid', 'sex','age','bmi', 'ethnicity', 'smoke_ever', 'alcohol_amount','fp-SLE', 'SLE']]"
   ],
   "metadata": {
    "collapsed": false
   },
   "id": "6b16cd02af7def3f"
  },
  {
   "cell_type": "code",
   "execution_count": null,
   "outputs": [],
   "source": [
    "sle_pro = sle_pro[sle_pro[\"fp-SLE\"]>0]\n",
    "print(\"all participant\", len(sle_pro))\n",
    "sle_control = sle_pro[sle_pro[\"SLE\"]==0]\n",
    "print(\"control\", len(sle_control))\n",
    "sle_case = sle_pro[sle_pro[\"SLE\"]==1]\n",
    "print(\"case\", len(sle_case))"
   ],
   "metadata": {
    "collapsed": false
   },
   "id": "21d220b9086ce47a"
  },
  {
   "cell_type": "code",
   "execution_count": null,
   "outputs": [],
   "source": [
    "sle_pro_white = sle_pro[sle_pro['ethnicity']==1001.0]\n",
    "sle_pro_female = sle_pro[sle_pro['sex']==0]\n",
    "\n",
    "sle_control_white = sle_control[sle_control['ethnicity']==1001.0]\n",
    "sle_control_female = sle_control[sle_control['sex']==0]\n",
    "\n",
    "sle_case_white = sle_case[sle_case['ethnicity']==1001.0]\n",
    "sle_case_female = sle_case[sle_case['sex']==0]\n",
    "\n",
    "sle_pro_smoke = sle_pro[sle_pro['smoke_ever']==0]\n",
    "sle_control_smoke = sle_control[sle_control['smoke_ever']==0]\n",
    "sle_case_smoke = sle_case[sle_case['smoke_ever']==0]\n",
    "\n",
    "\n",
    "print(\"all white\", len(sle_pro_white), len(sle_pro_white)/len(sle_pro))\n",
    "print(\"all female\", len(sle_pro_female), len(sle_pro_female)/len(sle_pro))\n",
    "\n",
    "print(\"control white\", len(sle_control_white), len(sle_control_white)/len(sle_control))\n",
    "print(\"control female\", len(sle_control_female), len(sle_control_female)/len(sle_control))\n",
    "\n",
    "print(\"case white\", len(sle_case_white), len(sle_case_white)/len(sle_case))\n",
    "print(\"case female\", len(sle_case_female), len(sle_case_female)/len(sle_case))\n",
    "\n",
    "print(\"all smoke\", len(sle_pro_smoke), len(sle_pro_smoke)/len(sle_pro))\n",
    "print(\"control smoke\", len(sle_control_smoke), len(sle_control_smoke)/len(sle_control))\n",
    "print(\"case smoke\", len(sle_case_smoke), len(sle_case_smoke)/len(sle_case))\n"
   ],
   "metadata": {
    "collapsed": false
   },
   "id": "d7e0bbbaf6ae17f3"
  },
  {
   "cell_type": "code",
   "execution_count": null,
   "outputs": [],
   "source": [
    "from tqdm import tqdm\n",
    "import pandas as pd\n",
    "from scipy.stats import ttest_ind, chi2_contingency\n",
    "from statsmodels.stats.multitest import multipletests\n",
    "\n",
    "results = []\n",
    "t_test_columns = ['age', 'bmi'] \n",
    "chi2_columns = ['sex', 'ethnicity', 'smoke_ever', 'alcohol_amount']  \n",
    "\n",
    "for column in tqdm(t_test_columns + chi2_columns, desc=\"Processing variables\"):\n",
    "    sle_group = sle_control[column]\n",
    "    print(\"sle_group: \", len(sle_group))\n",
    "    non_sle_group = sle_case[column]\n",
    "    print(\"non_sle_group: \", len(non_sle_group))\n",
    "\n",
    "    if column in t_test_columns:\n",
    "        t_stat, p_value = ttest_ind(sle_group, non_sle_group, nan_policy='omit')\n",
    "        results.append({\n",
    "            \"variable\": column,\n",
    "            \"method\": \"t-test\",\n",
    "            \"statistic\": t_stat,\n",
    "            \"p_value\": p_value\n",
    "        })\n",
    "    elif column in chi2_columns:\n",
    "        contingency_table = pd.crosstab(sle_pro[\"SLE\"], sle_pro[column])\n",
    "        chi2_stat, p_value, _, _ = chi2_contingency(contingency_table)\n",
    "        results.append({\n",
    "            \"variable\": column,\n",
    "            \"method\": \"chi2\",\n",
    "            \"statistic\": chi2_stat,\n",
    "            \"p_value\": p_value\n",
    "        })\n",
    "\n",
    "results_df = pd.DataFrame(results)\n",
    "results_df[\"FDR_P-value\"] = multipletests(results_df[\"p_value\"], method=\"fdr_bh\")[1]\n",
    "results_df[\"Bonferroni_P-value\"] = multipletests(results_df[\"p_value\"], method=\"bonferroni\")[1]\n",
    "results_df.to_csv(\"participants_characteristics.csv\", index=False)"
   ],
   "metadata": {
    "collapsed": false
   },
   "id": "ecb25de02b5e2062"
  }
 ],
 "metadata": {
  "kernelspec": {
   "display_name": "Python 3",
   "language": "python",
   "name": "python3"
  },
  "language_info": {
   "codemirror_mode": {
    "name": "ipython",
    "version": 2
   },
   "file_extension": ".py",
   "mimetype": "text/x-python",
   "name": "python",
   "nbconvert_exporter": "python",
   "pygments_lexer": "ipython2",
   "version": "2.7.6"
  }
 },
 "nbformat": 4,
 "nbformat_minor": 5
}
